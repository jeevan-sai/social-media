{
 "cells": [
  {
   "cell_type": "code",
   "execution_count": 1,
   "id": "369f387b-1a02-4f0e-a317-1cad44b802e5",
   "metadata": {},
   "outputs": [],
   "source": [
    "import pandas as pd\n",
    "import numpy as np\n",
    "import seaborn as sns\n",
    "import matplotlib.pyplot as plt"
   ]
  },
  {
   "cell_type": "code",
   "execution_count": 2,
   "id": "67a7e4fb-4b0b-4beb-9187-b2baf539cb71",
   "metadata": {},
   "outputs": [],
   "source": [
    "df=pd.read_csv(\"C:\\\\Users\\\\HP 745 G6\\\\Downloads\\\\social_media_usage.csv\")"
   ]
  },
  {
   "cell_type": "code",
   "execution_count": 3,
   "id": "959f45e5-835e-43e1-99c4-60c37f8d5486",
   "metadata": {},
   "outputs": [
    {
     "data": {
      "text/html": [
       "<div>\n",
       "<style scoped>\n",
       "    .dataframe tbody tr th:only-of-type {\n",
       "        vertical-align: middle;\n",
       "    }\n",
       "\n",
       "    .dataframe tbody tr th {\n",
       "        vertical-align: top;\n",
       "    }\n",
       "\n",
       "    .dataframe thead th {\n",
       "        text-align: right;\n",
       "    }\n",
       "</style>\n",
       "<table border=\"1\" class=\"dataframe\">\n",
       "  <thead>\n",
       "    <tr style=\"text-align: right;\">\n",
       "      <th></th>\n",
       "      <th>User_ID</th>\n",
       "      <th>App</th>\n",
       "      <th>Daily_Minutes_Spent</th>\n",
       "      <th>Posts_Per_Day</th>\n",
       "      <th>Likes_Per_Day</th>\n",
       "      <th>Follows_Per_Day</th>\n",
       "    </tr>\n",
       "  </thead>\n",
       "  <tbody>\n",
       "    <tr>\n",
       "      <th>0</th>\n",
       "      <td>U_1</td>\n",
       "      <td>Pinterest</td>\n",
       "      <td>288</td>\n",
       "      <td>16</td>\n",
       "      <td>94</td>\n",
       "      <td>0</td>\n",
       "    </tr>\n",
       "    <tr>\n",
       "      <th>1</th>\n",
       "      <td>U_2</td>\n",
       "      <td>Facebook</td>\n",
       "      <td>192</td>\n",
       "      <td>14</td>\n",
       "      <td>117</td>\n",
       "      <td>15</td>\n",
       "    </tr>\n",
       "    <tr>\n",
       "      <th>2</th>\n",
       "      <td>U_3</td>\n",
       "      <td>Instagram</td>\n",
       "      <td>351</td>\n",
       "      <td>13</td>\n",
       "      <td>120</td>\n",
       "      <td>48</td>\n",
       "    </tr>\n",
       "    <tr>\n",
       "      <th>3</th>\n",
       "      <td>U_4</td>\n",
       "      <td>TikTok</td>\n",
       "      <td>21</td>\n",
       "      <td>20</td>\n",
       "      <td>117</td>\n",
       "      <td>8</td>\n",
       "    </tr>\n",
       "    <tr>\n",
       "      <th>4</th>\n",
       "      <td>U_5</td>\n",
       "      <td>LinkedIn</td>\n",
       "      <td>241</td>\n",
       "      <td>16</td>\n",
       "      <td>9</td>\n",
       "      <td>21</td>\n",
       "    </tr>\n",
       "    <tr>\n",
       "      <th>...</th>\n",
       "      <td>...</td>\n",
       "      <td>...</td>\n",
       "      <td>...</td>\n",
       "      <td>...</td>\n",
       "      <td>...</td>\n",
       "      <td>...</td>\n",
       "    </tr>\n",
       "    <tr>\n",
       "      <th>995</th>\n",
       "      <td>U_996</td>\n",
       "      <td>LinkedIn</td>\n",
       "      <td>479</td>\n",
       "      <td>4</td>\n",
       "      <td>72</td>\n",
       "      <td>15</td>\n",
       "    </tr>\n",
       "    <tr>\n",
       "      <th>996</th>\n",
       "      <td>U_997</td>\n",
       "      <td>Instagram</td>\n",
       "      <td>499</td>\n",
       "      <td>14</td>\n",
       "      <td>110</td>\n",
       "      <td>49</td>\n",
       "    </tr>\n",
       "    <tr>\n",
       "      <th>997</th>\n",
       "      <td>U_998</td>\n",
       "      <td>Facebook</td>\n",
       "      <td>318</td>\n",
       "      <td>6</td>\n",
       "      <td>105</td>\n",
       "      <td>9</td>\n",
       "    </tr>\n",
       "    <tr>\n",
       "      <th>998</th>\n",
       "      <td>U_999</td>\n",
       "      <td>TikTok</td>\n",
       "      <td>305</td>\n",
       "      <td>15</td>\n",
       "      <td>151</td>\n",
       "      <td>6</td>\n",
       "    </tr>\n",
       "    <tr>\n",
       "      <th>999</th>\n",
       "      <td>U_1000</td>\n",
       "      <td>Pinterest</td>\n",
       "      <td>115</td>\n",
       "      <td>17</td>\n",
       "      <td>81</td>\n",
       "      <td>39</td>\n",
       "    </tr>\n",
       "  </tbody>\n",
       "</table>\n",
       "<p>1000 rows × 6 columns</p>\n",
       "</div>"
      ],
      "text/plain": [
       "    User_ID        App  Daily_Minutes_Spent  Posts_Per_Day  Likes_Per_Day  \\\n",
       "0       U_1  Pinterest                  288             16             94   \n",
       "1       U_2   Facebook                  192             14            117   \n",
       "2       U_3  Instagram                  351             13            120   \n",
       "3       U_4     TikTok                   21             20            117   \n",
       "4       U_5   LinkedIn                  241             16              9   \n",
       "..      ...        ...                  ...            ...            ...   \n",
       "995   U_996   LinkedIn                  479              4             72   \n",
       "996   U_997  Instagram                  499             14            110   \n",
       "997   U_998   Facebook                  318              6            105   \n",
       "998   U_999     TikTok                  305             15            151   \n",
       "999  U_1000  Pinterest                  115             17             81   \n",
       "\n",
       "     Follows_Per_Day  \n",
       "0                  0  \n",
       "1                 15  \n",
       "2                 48  \n",
       "3                  8  \n",
       "4                 21  \n",
       "..               ...  \n",
       "995               15  \n",
       "996               49  \n",
       "997                9  \n",
       "998                6  \n",
       "999               39  \n",
       "\n",
       "[1000 rows x 6 columns]"
      ]
     },
     "execution_count": 3,
     "metadata": {},
     "output_type": "execute_result"
    }
   ],
   "source": [
    "df"
   ]
  },
  {
   "cell_type": "code",
   "execution_count": 4,
   "id": "87f9ecc0-4324-4f35-be12-3ebe38f4b106",
   "metadata": {},
   "outputs": [
    {
     "data": {
      "text/plain": [
       "(1000, 6)"
      ]
     },
     "execution_count": 4,
     "metadata": {},
     "output_type": "execute_result"
    }
   ],
   "source": [
    "df.shape"
   ]
  },
  {
   "cell_type": "markdown",
   "id": "d24a839a-7c8b-4d62-8049-e6ac6b847766",
   "metadata": {},
   "source": [
    "### data cleaning:"
   ]
  },
  {
   "cell_type": "code",
   "execution_count": 5,
   "id": "46fff10a-4b52-4e64-b110-ff71c1a605e5",
   "metadata": {},
   "outputs": [
    {
     "data": {
      "text/plain": [
       "User_ID                0\n",
       "App                    0\n",
       "Daily_Minutes_Spent    0\n",
       "Posts_Per_Day          0\n",
       "Likes_Per_Day          0\n",
       "Follows_Per_Day        0\n",
       "dtype: int64"
      ]
     },
     "execution_count": 5,
     "metadata": {},
     "output_type": "execute_result"
    }
   ],
   "source": [
    "df.isna().sum()"
   ]
  },
  {
   "cell_type": "code",
   "execution_count": 6,
   "id": "d6e1440c-112c-4f51-b8b2-cfb99f80f1de",
   "metadata": {},
   "outputs": [
    {
     "name": "stdout",
     "output_type": "stream",
     "text": [
      "<class 'pandas.core.frame.DataFrame'>\n",
      "RangeIndex: 1000 entries, 0 to 999\n",
      "Data columns (total 6 columns):\n",
      " #   Column               Non-Null Count  Dtype \n",
      "---  ------               --------------  ----- \n",
      " 0   User_ID              1000 non-null   object\n",
      " 1   App                  1000 non-null   object\n",
      " 2   Daily_Minutes_Spent  1000 non-null   int64 \n",
      " 3   Posts_Per_Day        1000 non-null   int64 \n",
      " 4   Likes_Per_Day        1000 non-null   int64 \n",
      " 5   Follows_Per_Day      1000 non-null   int64 \n",
      "dtypes: int64(4), object(2)\n",
      "memory usage: 47.0+ KB\n"
     ]
    }
   ],
   "source": [
    "df.info()"
   ]
  },
  {
   "cell_type": "code",
   "execution_count": 7,
   "id": "837fe48b-cc23-423e-8683-1f60cdb79d70",
   "metadata": {},
   "outputs": [
    {
     "data": {
      "text/html": [
       "<div>\n",
       "<style scoped>\n",
       "    .dataframe tbody tr th:only-of-type {\n",
       "        vertical-align: middle;\n",
       "    }\n",
       "\n",
       "    .dataframe tbody tr th {\n",
       "        vertical-align: top;\n",
       "    }\n",
       "\n",
       "    .dataframe thead th {\n",
       "        text-align: right;\n",
       "    }\n",
       "</style>\n",
       "<table border=\"1\" class=\"dataframe\">\n",
       "  <thead>\n",
       "    <tr style=\"text-align: right;\">\n",
       "      <th></th>\n",
       "      <th>Daily_Minutes_Spent</th>\n",
       "      <th>Posts_Per_Day</th>\n",
       "      <th>Likes_Per_Day</th>\n",
       "      <th>Follows_Per_Day</th>\n",
       "    </tr>\n",
       "  </thead>\n",
       "  <tbody>\n",
       "    <tr>\n",
       "      <th>count</th>\n",
       "      <td>1000.000000</td>\n",
       "      <td>1000.000000</td>\n",
       "      <td>1000.000000</td>\n",
       "      <td>1000.000000</td>\n",
       "    </tr>\n",
       "    <tr>\n",
       "      <th>mean</th>\n",
       "      <td>247.368000</td>\n",
       "      <td>10.269000</td>\n",
       "      <td>94.682000</td>\n",
       "      <td>24.698000</td>\n",
       "    </tr>\n",
       "    <tr>\n",
       "      <th>std</th>\n",
       "      <td>146.371921</td>\n",
       "      <td>6.121774</td>\n",
       "      <td>57.560943</td>\n",
       "      <td>14.842948</td>\n",
       "    </tr>\n",
       "    <tr>\n",
       "      <th>min</th>\n",
       "      <td>5.000000</td>\n",
       "      <td>0.000000</td>\n",
       "      <td>0.000000</td>\n",
       "      <td>0.000000</td>\n",
       "    </tr>\n",
       "    <tr>\n",
       "      <th>25%</th>\n",
       "      <td>112.750000</td>\n",
       "      <td>5.000000</td>\n",
       "      <td>44.750000</td>\n",
       "      <td>12.000000</td>\n",
       "    </tr>\n",
       "    <tr>\n",
       "      <th>50%</th>\n",
       "      <td>246.000000</td>\n",
       "      <td>10.000000</td>\n",
       "      <td>94.000000</td>\n",
       "      <td>24.000000</td>\n",
       "    </tr>\n",
       "    <tr>\n",
       "      <th>75%</th>\n",
       "      <td>380.500000</td>\n",
       "      <td>16.000000</td>\n",
       "      <td>142.000000</td>\n",
       "      <td>38.000000</td>\n",
       "    </tr>\n",
       "    <tr>\n",
       "      <th>max</th>\n",
       "      <td>500.000000</td>\n",
       "      <td>20.000000</td>\n",
       "      <td>200.000000</td>\n",
       "      <td>50.000000</td>\n",
       "    </tr>\n",
       "  </tbody>\n",
       "</table>\n",
       "</div>"
      ],
      "text/plain": [
       "       Daily_Minutes_Spent  Posts_Per_Day  Likes_Per_Day  Follows_Per_Day\n",
       "count          1000.000000    1000.000000    1000.000000      1000.000000\n",
       "mean            247.368000      10.269000      94.682000        24.698000\n",
       "std             146.371921       6.121774      57.560943        14.842948\n",
       "min               5.000000       0.000000       0.000000         0.000000\n",
       "25%             112.750000       5.000000      44.750000        12.000000\n",
       "50%             246.000000      10.000000      94.000000        24.000000\n",
       "75%             380.500000      16.000000     142.000000        38.000000\n",
       "max             500.000000      20.000000     200.000000        50.000000"
      ]
     },
     "execution_count": 7,
     "metadata": {},
     "output_type": "execute_result"
    }
   ],
   "source": [
    "df.describe()"
   ]
  },
  {
   "cell_type": "code",
   "execution_count": 8,
   "id": "d4d14251-a406-44e7-8aa7-040936f13929",
   "metadata": {},
   "outputs": [
    {
     "data": {
      "image/png": "[encoded data removed]",
      "text/plain": [
       "<Figure size 640x480 with 1 Axes>"
      ]
     },
     "metadata": {},
     "output_type": "display_data"
    }
   ],
   "source": [
    "sns.boxplot(df)\n",
    "plt.show()"
   ]
  },
  {
   "cell_type": "code",
   "execution_count": 9,
   "id": "3dd93295-70ea-436a-9b3f-2da5db21428c",
   "metadata": {},
   "outputs": [],
   "source": [
    "df[\"App\"]=df[\"App\"].astype(\"category\")"
   ]
  },
  {
   "cell_type": "code",
   "execution_count": 10,
   "id": "4c7146c1-d4d9-4c0b-abbf-1f0ab474a40a",
   "metadata": {},
   "outputs": [
    {
     "data": {
      "text/html": [
       "<div>\n",
       "<style scoped>\n",
       "    .dataframe tbody tr th:only-of-type {\n",
       "        vertical-align: middle;\n",
       "    }\n",
       "\n",
       "    .dataframe tbody tr th {\n",
       "        vertical-align: top;\n",
       "    }\n",
       "\n",
       "    .dataframe thead th {\n",
       "        text-align: right;\n",
       "    }\n",
       "</style>\n",
       "<table border=\"1\" class=\"dataframe\">\n",
       "  <thead>\n",
       "    <tr style=\"text-align: right;\">\n",
       "      <th></th>\n",
       "      <th>User_ID</th>\n",
       "      <th>App</th>\n",
       "      <th>Daily_Minutes_Spent</th>\n",
       "      <th>Posts_Per_Day</th>\n",
       "      <th>Likes_Per_Day</th>\n",
       "      <th>Follows_Per_Day</th>\n",
       "    </tr>\n",
       "  </thead>\n",
       "  <tbody>\n",
       "    <tr>\n",
       "      <th>0</th>\n",
       "      <td>U_1</td>\n",
       "      <td>Pinterest</td>\n",
       "      <td>288</td>\n",
       "      <td>16</td>\n",
       "      <td>94</td>\n",
       "      <td>0</td>\n",
       "    </tr>\n",
       "    <tr>\n",
       "      <th>1</th>\n",
       "      <td>U_2</td>\n",
       "      <td>Facebook</td>\n",
       "      <td>192</td>\n",
       "      <td>14</td>\n",
       "      <td>117</td>\n",
       "      <td>15</td>\n",
       "    </tr>\n",
       "    <tr>\n",
       "      <th>2</th>\n",
       "      <td>U_3</td>\n",
       "      <td>Instagram</td>\n",
       "      <td>351</td>\n",
       "      <td>13</td>\n",
       "      <td>120</td>\n",
       "      <td>48</td>\n",
       "    </tr>\n",
       "    <tr>\n",
       "      <th>3</th>\n",
       "      <td>U_4</td>\n",
       "      <td>TikTok</td>\n",
       "      <td>21</td>\n",
       "      <td>20</td>\n",
       "      <td>117</td>\n",
       "      <td>8</td>\n",
       "    </tr>\n",
       "    <tr>\n",
       "      <th>4</th>\n",
       "      <td>U_5</td>\n",
       "      <td>LinkedIn</td>\n",
       "      <td>241</td>\n",
       "      <td>16</td>\n",
       "      <td>9</td>\n",
       "      <td>21</td>\n",
       "    </tr>\n",
       "    <tr>\n",
       "      <th>...</th>\n",
       "      <td>...</td>\n",
       "      <td>...</td>\n",
       "      <td>...</td>\n",
       "      <td>...</td>\n",
       "      <td>...</td>\n",
       "      <td>...</td>\n",
       "    </tr>\n",
       "    <tr>\n",
       "      <th>995</th>\n",
       "      <td>U_996</td>\n",
       "      <td>LinkedIn</td>\n",
       "      <td>479</td>\n",
       "      <td>4</td>\n",
       "      <td>72</td>\n",
       "      <td>15</td>\n",
       "    </tr>\n",
       "    <tr>\n",
       "      <th>996</th>\n",
       "      <td>U_997</td>\n",
       "      <td>Instagram</td>\n",
       "      <td>499</td>\n",
       "      <td>14</td>\n",
       "      <td>110</td>\n",
       "      <td>49</td>\n",
       "    </tr>\n",
       "    <tr>\n",
       "      <th>997</th>\n",
       "      <td>U_998</td>\n",
       "      <td>Facebook</td>\n",
       "      <td>318</td>\n",
       "      <td>6</td>\n",
       "      <td>105</td>\n",
       "      <td>9</td>\n",
       "    </tr>\n",
       "    <tr>\n",
       "      <th>998</th>\n",
       "      <td>U_999</td>\n",
       "      <td>TikTok</td>\n",
       "      <td>305</td>\n",
       "      <td>15</td>\n",
       "      <td>151</td>\n",
       "      <td>6</td>\n",
       "    </tr>\n",
       "    <tr>\n",
       "      <th>999</th>\n",
       "      <td>U_1000</td>\n",
       "      <td>Pinterest</td>\n",
       "      <td>115</td>\n",
       "      <td>17</td>\n",
       "      <td>81</td>\n",
       "      <td>39</td>\n",
       "    </tr>\n",
       "  </tbody>\n",
       "</table>\n",
       "<p>1000 rows × 6 columns</p>\n",
       "</div>"
      ],
      "text/plain": [
       "    User_ID        App  Daily_Minutes_Spent  Posts_Per_Day  Likes_Per_Day  \\\n",
       "0       U_1  Pinterest                  288             16             94   \n",
       "1       U_2   Facebook                  192             14            117   \n",
       "2       U_3  Instagram                  351             13            120   \n",
       "3       U_4     TikTok                   21             20            117   \n",
       "4       U_5   LinkedIn                  241             16              9   \n",
       "..      ...        ...                  ...            ...            ...   \n",
       "995   U_996   LinkedIn                  479              4             72   \n",
       "996   U_997  Instagram                  499             14            110   \n",
       "997   U_998   Facebook                  318              6            105   \n",
       "998   U_999     TikTok                  305             15            151   \n",
       "999  U_1000  Pinterest                  115             17             81   \n",
       "\n",
       "     Follows_Per_Day  \n",
       "0                  0  \n",
       "1                 15  \n",
       "2                 48  \n",
       "3                  8  \n",
       "4                 21  \n",
       "..               ...  \n",
       "995               15  \n",
       "996               49  \n",
       "997                9  \n",
       "998                6  \n",
       "999               39  \n",
       "\n",
       "[1000 rows x 6 columns]"
      ]
     },
     "execution_count": 10,
     "metadata": {},
     "output_type": "execute_result"
    }
   ],
   "source": [
    "df"
   ]
  },
  {
   "cell_type": "code",
   "execution_count": 11,
   "id": "f2991530-80c1-4d6b-8654-79ba7ed28b81",
   "metadata": {},
   "outputs": [
    {
     "name": "stdout",
     "output_type": "stream",
     "text": [
      "<class 'pandas.core.frame.DataFrame'>\n",
      "RangeIndex: 1000 entries, 0 to 999\n",
      "Data columns (total 6 columns):\n",
      " #   Column               Non-Null Count  Dtype   \n",
      "---  ------               --------------  -----   \n",
      " 0   User_ID              1000 non-null   object  \n",
      " 1   App                  1000 non-null   category\n",
      " 2   Daily_Minutes_Spent  1000 non-null   int64   \n",
      " 3   Posts_Per_Day        1000 non-null   int64   \n",
      " 4   Likes_Per_Day        1000 non-null   int64   \n",
      " 5   Follows_Per_Day      1000 non-null   int64   \n",
      "dtypes: category(1), int64(4), object(1)\n",
      "memory usage: 40.5+ KB\n"
     ]
    }
   ],
   "source": [
    "df.info()"
   ]
  },
  {
   "cell_type": "code",
   "execution_count": 12,
   "id": "05245468-b438-42f3-9dc2-ec43c83a5c55",
   "metadata": {},
   "outputs": [
    {
     "data": {
      "text/plain": [
       "Index(['User_ID', 'App', 'Daily_Minutes_Spent', 'Posts_Per_Day',\n",
       "       'Likes_Per_Day', 'Follows_Per_Day'],\n",
       "      dtype='object')"
      ]
     },
     "execution_count": 12,
     "metadata": {},
     "output_type": "execute_result"
    }
   ],
   "source": [
    "df.columns"
   ]
  },
  {
   "cell_type": "code",
   "execution_count": 13,
   "id": "6bf0f310-43cf-4115-ab0b-50c2b4a5ba42",
   "metadata": {},
   "outputs": [],
   "source": [
    "cols=['Daily_Minutes_Spent', 'Posts_Per_Day','Likes_Per_Day', 'Follows_Per_Day']"
   ]
  },
  {
   "cell_type": "code",
   "execution_count": 14,
   "id": "c0431e7a-3c9d-494a-bbeb-bc91689d72c4",
   "metadata": {},
   "outputs": [],
   "source": [
    "from sklearn.preprocessing import MinMaxScaler"
   ]
  },
  {
   "cell_type": "code",
   "execution_count": 15,
   "id": "81a967e6-7d76-4f41-a5a6-611cc8684b67",
   "metadata": {},
   "outputs": [],
   "source": [
    "scale=MinMaxScaler()"
   ]
  },
  {
   "cell_type": "code",
   "execution_count": 16,
   "id": "a2b436f2-d24a-4875-9e67-5ff3a0a64741",
   "metadata": {},
   "outputs": [],
   "source": [
    "for i in cols:\n",
    "    scale.fit(df[[i]])\n",
    "    df[i]=scale.transform(df[[i]])"
   ]
  },
  {
   "cell_type": "code",
   "execution_count": 17,
   "id": "2a773201-0115-4601-a7b4-dd6833eef5f8",
   "metadata": {},
   "outputs": [
    {
     "data": {
      "text/html": [
       "<div>\n",
       "<style scoped>\n",
       "    .dataframe tbody tr th:only-of-type {\n",
       "        vertical-align: middle;\n",
       "    }\n",
       "\n",
       "    .dataframe tbody tr th {\n",
       "        vertical-align: top;\n",
       "    }\n",
       "\n",
       "    .dataframe thead th {\n",
       "        text-align: right;\n",
       "    }\n",
       "</style>\n",
       "<table border=\"1\" class=\"dataframe\">\n",
       "  <thead>\n",
       "    <tr style=\"text-align: right;\">\n",
       "      <th></th>\n",
       "      <th>User_ID</th>\n",
       "      <th>App</th>\n",
       "      <th>Daily_Minutes_Spent</th>\n",
       "      <th>Posts_Per_Day</th>\n",
       "      <th>Likes_Per_Day</th>\n",
       "      <th>Follows_Per_Day</th>\n",
       "    </tr>\n",
       "  </thead>\n",
       "  <tbody>\n",
       "    <tr>\n",
       "      <th>0</th>\n",
       "      <td>U_1</td>\n",
       "      <td>Pinterest</td>\n",
       "      <td>0.571717</td>\n",
       "      <td>0.80</td>\n",
       "      <td>0.470</td>\n",
       "      <td>0.00</td>\n",
       "    </tr>\n",
       "    <tr>\n",
       "      <th>1</th>\n",
       "      <td>U_2</td>\n",
       "      <td>Facebook</td>\n",
       "      <td>0.377778</td>\n",
       "      <td>0.70</td>\n",
       "      <td>0.585</td>\n",
       "      <td>0.30</td>\n",
       "    </tr>\n",
       "    <tr>\n",
       "      <th>2</th>\n",
       "      <td>U_3</td>\n",
       "      <td>Instagram</td>\n",
       "      <td>0.698990</td>\n",
       "      <td>0.65</td>\n",
       "      <td>0.600</td>\n",
       "      <td>0.96</td>\n",
       "    </tr>\n",
       "    <tr>\n",
       "      <th>3</th>\n",
       "      <td>U_4</td>\n",
       "      <td>TikTok</td>\n",
       "      <td>0.032323</td>\n",
       "      <td>1.00</td>\n",
       "      <td>0.585</td>\n",
       "      <td>0.16</td>\n",
       "    </tr>\n",
       "    <tr>\n",
       "      <th>4</th>\n",
       "      <td>U_5</td>\n",
       "      <td>LinkedIn</td>\n",
       "      <td>0.476768</td>\n",
       "      <td>0.80</td>\n",
       "      <td>0.045</td>\n",
       "      <td>0.42</td>\n",
       "    </tr>\n",
       "    <tr>\n",
       "      <th>...</th>\n",
       "      <td>...</td>\n",
       "      <td>...</td>\n",
       "      <td>...</td>\n",
       "      <td>...</td>\n",
       "      <td>...</td>\n",
       "      <td>...</td>\n",
       "    </tr>\n",
       "    <tr>\n",
       "      <th>995</th>\n",
       "      <td>U_996</td>\n",
       "      <td>LinkedIn</td>\n",
       "      <td>0.957576</td>\n",
       "      <td>0.20</td>\n",
       "      <td>0.360</td>\n",
       "      <td>0.30</td>\n",
       "    </tr>\n",
       "    <tr>\n",
       "      <th>996</th>\n",
       "      <td>U_997</td>\n",
       "      <td>Instagram</td>\n",
       "      <td>0.997980</td>\n",
       "      <td>0.70</td>\n",
       "      <td>0.550</td>\n",
       "      <td>0.98</td>\n",
       "    </tr>\n",
       "    <tr>\n",
       "      <th>997</th>\n",
       "      <td>U_998</td>\n",
       "      <td>Facebook</td>\n",
       "      <td>0.632323</td>\n",
       "      <td>0.30</td>\n",
       "      <td>0.525</td>\n",
       "      <td>0.18</td>\n",
       "    </tr>\n",
       "    <tr>\n",
       "      <th>998</th>\n",
       "      <td>U_999</td>\n",
       "      <td>TikTok</td>\n",
       "      <td>0.606061</td>\n",
       "      <td>0.75</td>\n",
       "      <td>0.755</td>\n",
       "      <td>0.12</td>\n",
       "    </tr>\n",
       "    <tr>\n",
       "      <th>999</th>\n",
       "      <td>U_1000</td>\n",
       "      <td>Pinterest</td>\n",
       "      <td>0.222222</td>\n",
       "      <td>0.85</td>\n",
       "      <td>0.405</td>\n",
       "      <td>0.78</td>\n",
       "    </tr>\n",
       "  </tbody>\n",
       "</table>\n",
       "<p>1000 rows × 6 columns</p>\n",
       "</div>"
      ],
      "text/plain": [
       "    User_ID        App  Daily_Minutes_Spent  Posts_Per_Day  Likes_Per_Day  \\\n",
       "0       U_1  Pinterest             0.571717           0.80          0.470   \n",
       "1       U_2   Facebook             0.377778           0.70          0.585   \n",
       "2       U_3  Instagram             0.698990           0.65          0.600   \n",
       "3       U_4     TikTok             0.032323           1.00          0.585   \n",
       "4       U_5   LinkedIn             0.476768           0.80          0.045   \n",
       "..      ...        ...                  ...            ...            ...   \n",
       "995   U_996   LinkedIn             0.957576           0.20          0.360   \n",
       "996   U_997  Instagram             0.997980           0.70          0.550   \n",
       "997   U_998   Facebook             0.632323           0.30          0.525   \n",
       "998   U_999     TikTok             0.606061           0.75          0.755   \n",
       "999  U_1000  Pinterest             0.222222           0.85          0.405   \n",
       "\n",
       "     Follows_Per_Day  \n",
       "0               0.00  \n",
       "1               0.30  \n",
       "2               0.96  \n",
       "3               0.16  \n",
       "4               0.42  \n",
       "..               ...  \n",
       "995             0.30  \n",
       "996             0.98  \n",
       "997             0.18  \n",
       "998             0.12  \n",
       "999             0.78  \n",
       "\n",
       "[1000 rows x 6 columns]"
      ]
     },
     "execution_count": 17,
     "metadata": {},
     "output_type": "execute_result"
    }
   ],
   "source": [
    "df"
   ]
  },
  {
   "cell_type": "markdown",
   "id": "b8ad5640-8766-48f5-b1a4-60f8d5720124",
   "metadata": {},
   "source": [
    "### Exploratory Data Analysis (EDA):"
   ]
  },
  {
   "cell_type": "markdown",
   "id": "f7fd3911-7f76-49ae-9265-bd80bf6c7cdb",
   "metadata": {},
   "source": [
    "##### Platform Usage Patterns:"
   ]
  },
  {
   "cell_type": "markdown",
   "id": "7f9cc1c5-e59d-43e1-8256-576b3a2138e5",
   "metadata": {},
   "source": [
    "######  Analyze average daily time spent on each platform."
   ]
  },
  {
   "cell_type": "code",
   "execution_count": 18,
   "id": "86691fa9-e67a-41e6-ba92-c9d259b65ca7",
   "metadata": {},
   "outputs": [
    {
     "data": {
      "text/plain": [
       "['Pinterest', 'Facebook', 'Instagram', 'TikTok', 'LinkedIn', 'Twitter', 'Snapchat']\n",
       "Categories (7, object): ['Facebook', 'Instagram', 'LinkedIn', 'Pinterest', 'Snapchat', 'TikTok', 'Twitter']"
      ]
     },
     "execution_count": 18,
     "metadata": {},
     "output_type": "execute_result"
    }
   ],
   "source": [
    "df[\"App\"].unique()"
   ]
  },
  {
   "cell_type": "code",
   "execution_count": 19,
   "id": "000d28c6-b359-4ad7-9885-b32fec22a1be",
   "metadata": {},
   "outputs": [
    {
     "data": {
      "text/plain": [
       "7"
      ]
     },
     "execution_count": 19,
     "metadata": {},
     "output_type": "execute_result"
    }
   ],
   "source": [
    "df[\"App\"].nunique()"
   ]
  },
  {
   "cell_type": "code",
   "execution_count": 20,
   "id": "a49041ed-c49f-4201-946d-f7329dff36d8",
   "metadata": {},
   "outputs": [
    {
     "data": {
      "text/plain": [
       "App\n",
       "Snapchat     156\n",
       "LinkedIn     147\n",
       "TikTok       141\n",
       "Instagram    140\n",
       "Pinterest    140\n",
       "Twitter      140\n",
       "Facebook     136\n",
       "Name: count, dtype: int64"
      ]
     },
     "execution_count": 20,
     "metadata": {},
     "output_type": "execute_result"
    }
   ],
   "source": [
    "df[\"App\"].value_counts()"
   ]
  },
  {
   "cell_type": "code",
   "execution_count": 21,
   "id": "1beb58be-95d5-46c5-9b4e-e48b06e8dd79",
   "metadata": {},
   "outputs": [
    {
     "name": "stderr",
     "output_type": "stream",
     "text": [
      "C:\\Users\\HP 745 G6\\AppData\\Local\\Temp\\ipykernel_5556\\698862715.py:1: FutureWarning: The default of observed=False is deprecated and will be changed to True in a future version of pandas. Pass observed=False to retain current behavior or observed=True to adopt the future default and silence this warning.\n",
      "  avg_spent =df.groupby(\"App\")[\"Daily_Minutes_Spent\"].mean()\n"
     ]
    }
   ],
   "source": [
    "avg_spent =df.groupby(\"App\")[\"Daily_Minutes_Spent\"].mean()"
   ]
  },
  {
   "cell_type": "code",
   "execution_count": 22,
   "id": "ebef1bb2-b7aa-4675-9c74-1c9dd772af62",
   "metadata": {},
   "outputs": [
    {
     "data": {
      "text/plain": [
       "App\n",
       "Facebook     0.489231\n",
       "Instagram    0.523434\n",
       "LinkedIn     0.466777\n",
       "Pinterest    0.467085\n",
       "Snapchat     0.508184\n",
       "TikTok       0.461451\n",
       "Twitter      0.510476\n",
       "Name: Daily_Minutes_Spent, dtype: float64"
      ]
     },
     "execution_count": 22,
     "metadata": {},
     "output_type": "execute_result"
    }
   ],
   "source": [
    "avg_spent"
   ]
  },
  {
   "cell_type": "code",
   "execution_count": 23,
   "id": "fe93cb42-f1cb-4e4f-bfe7-b30bf3b55fdd",
   "metadata": {},
   "outputs": [
    {
     "data": {
      "image/png": "[encoded data removed]",
      "text/plain": [
       "<Figure size 800x600 with 1 Axes>"
      ]
     },
     "metadata": {},
     "output_type": "display_data"
    }
   ],
   "source": [
    "plt.figure(figsize=(8,6))\n",
    "avg_spent.plot(kind=\"bar\")\n",
    "plt.grid()\n",
    "plt.show()"
   ]
  },
  {
   "cell_type": "markdown",
   "id": "95bcbfcc-f6bc-412f-b0a8-fd497b82193d",
   "metadata": {},
   "source": [
    "##### Posting Trends"
   ]
  },
  {
   "cell_type": "code",
   "execution_count": 24,
   "id": "80247612-2387-4cc8-ba2b-822b59dd101e",
   "metadata": {},
   "outputs": [
    {
     "name": "stderr",
     "output_type": "stream",
     "text": [
      "C:\\Users\\HP 745 G6\\AppData\\Local\\Temp\\ipykernel_5556\\1011377722.py:2: FutureWarning: The default of observed=False is deprecated and will be changed to True in a future version of pandas. Pass observed=False to retain current behavior or observed=True to adopt the future default and silence this warning.\n",
      "  trends_post=df.groupby(\"App\")[\"Posts_Per_Day\"].sum()\n"
     ]
    }
   ],
   "source": [
    "####the distribution of posts per user per platform.\n",
    "trends_post=df.groupby(\"App\")[\"Posts_Per_Day\"].sum()"
   ]
  },
  {
   "cell_type": "code",
   "execution_count": 25,
   "id": "a93982eb-3462-4384-94e0-86508076b0ab",
   "metadata": {},
   "outputs": [
    {
     "data": {
      "text/plain": [
       "App\n",
       "Facebook     64.75\n",
       "Instagram    79.30\n",
       "LinkedIn     74.80\n",
       "Pinterest    74.40\n",
       "Snapchat     78.00\n",
       "TikTok       67.40\n",
       "Twitter      74.80\n",
       "Name: Posts_Per_Day, dtype: float64"
      ]
     },
     "execution_count": 25,
     "metadata": {},
     "output_type": "execute_result"
    }
   ],
   "source": [
    "trends_post"
   ]
  },
  {
   "cell_type": "code",
   "execution_count": 26,
   "id": "d3730ca5-66ea-4a02-90c4-8b21b6ee1479",
   "metadata": {},
   "outputs": [
    {
     "data": {
      "image/png": "[encoded data removed]",
      "text/plain": [
       "<Figure size 800x600 with 1 Axes>"
      ]
     },
     "metadata": {},
     "output_type": "display_data"
    }
   ],
   "source": [
    "plt.figure(figsize=(8,6))\n",
    "trends_post.plot(kind=\"bar\")\n",
    "plt.title(\"total post per each platform\")\n",
    "plt.xlabel(\"platform\")\n",
    "plt.ylabel(\"total post\")\n",
    "plt.grid()\n",
    "plt.show()"
   ]
  },
  {
   "cell_type": "markdown",
   "id": "db4e4775-968c-4e59-839c-3f3068600152",
   "metadata": {},
   "source": [
    "##### Engagement Metrics:"
   ]
  },
  {
   "cell_type": "code",
   "execution_count": 27,
   "id": "a2df4f67-03c7-4446-9203-14506fc5a930",
   "metadata": {},
   "outputs": [
    {
     "data": {
      "text/plain": [
       "['Daily_Minutes_Spent', 'Posts_Per_Day', 'Likes_Per_Day', 'Follows_Per_Day']"
      ]
     },
     "execution_count": 27,
     "metadata": {},
     "output_type": "execute_result"
    }
   ],
   "source": [
    "### Examine the relationship between daily time spent, likes received, and follower growth.\n",
    "cols"
   ]
  },
  {
   "cell_type": "code",
   "execution_count": 28,
   "id": "d512fb76-d7b5-4cdf-883c-0bdc8bf0f84a",
   "metadata": {},
   "outputs": [],
   "source": [
    "engagementmetrices=df[['Daily_Minutes_Spent', 'Posts_Per_Day', 'Likes_Per_Day', 'Follows_Per_Day']].corr()"
   ]
  },
  {
   "cell_type": "code",
   "execution_count": 29,
   "id": "ef7565fc-fb0a-4927-a4fe-fc49604c430a",
   "metadata": {},
   "outputs": [
    {
     "data": {
      "image/png": "[encoded data removed]",
      "text/plain": [
       "<Figure size 640x480 with 2 Axes>"
      ]
     },
     "metadata": {},
     "output_type": "display_data"
    }
   ],
   "source": [
    "sns.heatmap(engagementmetrices,annot=True,cmap=\"coolwarm\")\n",
    "plt.show()"
   ]
  },
  {
   "cell_type": "markdown",
   "id": "725bd544-158b-461e-ad38-17985ce59dfa",
   "metadata": {},
   "source": [
    "##### High Engagement Platforms:"
   ]
  },
  {
   "cell_type": "code",
   "execution_count": 30,
   "id": "f833a2ed-906d-43e7-9c01-067ae105b9e8",
   "metadata": {},
   "outputs": [
    {
     "name": "stderr",
     "output_type": "stream",
     "text": [
      "C:\\Users\\HP 745 G6\\AppData\\Local\\Temp\\ipykernel_5556\\4156038399.py:2: FutureWarning: The default of observed=False is deprecated and will be changed to True in a future version of pandas. Pass observed=False to retain current behavior or observed=True to adopt the future default and silence this warning.\n",
      "  High_Engagement_Platforms=df.groupby(\"App\")[[\"Likes_Per_Day\",\"Follows_Per_Day\"]].sum()\n"
     ]
    }
   ],
   "source": [
    "####Identify which platforms have the highest engagement in terms of likes and followers.\n",
    "High_Engagement_Platforms=df.groupby(\"App\")[[\"Likes_Per_Day\",\"Follows_Per_Day\"]].sum()"
   ]
  },
  {
   "cell_type": "code",
   "execution_count": 31,
   "id": "02c48cf4-9951-4002-8565-c631b5ba7084",
   "metadata": {},
   "outputs": [
    {
     "data": {
      "text/html": [
       "<div>\n",
       "<style scoped>\n",
       "    .dataframe tbody tr th:only-of-type {\n",
       "        vertical-align: middle;\n",
       "    }\n",
       "\n",
       "    .dataframe tbody tr th {\n",
       "        vertical-align: top;\n",
       "    }\n",
       "\n",
       "    .dataframe thead th {\n",
       "        text-align: right;\n",
       "    }\n",
       "</style>\n",
       "<table border=\"1\" class=\"dataframe\">\n",
       "  <thead>\n",
       "    <tr style=\"text-align: right;\">\n",
       "      <th></th>\n",
       "      <th>Likes_Per_Day</th>\n",
       "      <th>Follows_Per_Day</th>\n",
       "    </tr>\n",
       "    <tr>\n",
       "      <th>App</th>\n",
       "      <th></th>\n",
       "      <th></th>\n",
       "    </tr>\n",
       "  </thead>\n",
       "  <tbody>\n",
       "    <tr>\n",
       "      <th>Facebook</th>\n",
       "      <td>67.525</td>\n",
       "      <td>62.88</td>\n",
       "    </tr>\n",
       "    <tr>\n",
       "      <th>Instagram</th>\n",
       "      <td>69.295</td>\n",
       "      <td>72.42</td>\n",
       "    </tr>\n",
       "    <tr>\n",
       "      <th>LinkedIn</th>\n",
       "      <td>71.355</td>\n",
       "      <td>73.74</td>\n",
       "    </tr>\n",
       "    <tr>\n",
       "      <th>Pinterest</th>\n",
       "      <td>64.480</td>\n",
       "      <td>69.42</td>\n",
       "    </tr>\n",
       "    <tr>\n",
       "      <th>Snapchat</th>\n",
       "      <td>73.180</td>\n",
       "      <td>79.58</td>\n",
       "    </tr>\n",
       "    <tr>\n",
       "      <th>TikTok</th>\n",
       "      <td>64.445</td>\n",
       "      <td>68.92</td>\n",
       "    </tr>\n",
       "    <tr>\n",
       "      <th>Twitter</th>\n",
       "      <td>63.130</td>\n",
       "      <td>67.00</td>\n",
       "    </tr>\n",
       "  </tbody>\n",
       "</table>\n",
       "</div>"
      ],
      "text/plain": [
       "           Likes_Per_Day  Follows_Per_Day\n",
       "App                                      \n",
       "Facebook          67.525            62.88\n",
       "Instagram         69.295            72.42\n",
       "LinkedIn          71.355            73.74\n",
       "Pinterest         64.480            69.42\n",
       "Snapchat          73.180            79.58\n",
       "TikTok            64.445            68.92\n",
       "Twitter           63.130            67.00"
      ]
     },
     "execution_count": 31,
     "metadata": {},
     "output_type": "execute_result"
    }
   ],
   "source": [
    "High_Engagement_Platforms"
   ]
  },
  {
   "cell_type": "code",
   "execution_count": 32,
   "id": "e3150c23-6d9a-4830-8654-1b7f5b78c257",
   "metadata": {},
   "outputs": [
    {
     "data": {
      "text/plain": [
       "<Figure size 800x600 with 0 Axes>"
      ]
     },
     "metadata": {},
     "output_type": "display_data"
    },
    {
     "data": {
      "image/png": "[encoded data removed]",
      "text/plain": [
       "<Figure size 640x480 with 1 Axes>"
      ]
     },
     "metadata": {},
     "output_type": "display_data"
    }
   ],
   "source": [
    "plt.figure(figsize=(8,6))\n",
    "High_Engagement_Platforms.plot(kind=\"bar\")\n",
    "plt.title(\"High Engagement Platforms\")\n",
    "plt.xlabel(\"platform\")\n",
    "plt.grid()\n",
    "plt.legend(loc=2)\n",
    "plt.show()"
   ]
  },
  {
   "cell_type": "markdown",
   "id": "3fa6dcde-14e8-473d-be48-3f8e65fb7bd5",
   "metadata": {},
   "source": [
    "### User Segmentation:"
   ]
  },
  {
   "cell_type": "markdown",
   "id": "9c3b4ca3-9446-446d-af11-60a696773ecc",
   "metadata": {},
   "source": [
    "##### likes-to-post ratio"
   ]
  },
  {
   "cell_type": "code",
   "execution_count": 33,
   "id": "e579f307-0033-421d-bbc8-15241e438547",
   "metadata": {},
   "outputs": [],
   "source": [
    "### Create new metrics such as likes-to-post ratio or time-to-post ratio for deeper insights.\n",
    "E=1e-6"
   ]
  },
  {
   "cell_type": "code",
   "execution_count": 34,
   "id": "905064e6-6614-4691-bcae-3d81052ab5e3",
   "metadata": {},
   "outputs": [],
   "source": [
    "df[\"likes-to-post ratio\"]=df[\"Likes_Per_Day\"]/(df[\"Posts_Per_Day\"]+E)"
   ]
  },
  {
   "cell_type": "code",
   "execution_count": 35,
   "id": "b0260bd2-1509-4fb3-b679-8a6142c47baa",
   "metadata": {},
   "outputs": [
    {
     "data": {
      "text/html": [
       "<div>\n",
       "<style scoped>\n",
       "    .dataframe tbody tr th:only-of-type {\n",
       "        vertical-align: middle;\n",
       "    }\n",
       "\n",
       "    .dataframe tbody tr th {\n",
       "        vertical-align: top;\n",
       "    }\n",
       "\n",
       "    .dataframe thead th {\n",
       "        text-align: right;\n",
       "    }\n",
       "</style>\n",
       "<table border=\"1\" class=\"dataframe\">\n",
       "  <thead>\n",
       "    <tr style=\"text-align: right;\">\n",
       "      <th></th>\n",
       "      <th>User_ID</th>\n",
       "      <th>App</th>\n",
       "      <th>Daily_Minutes_Spent</th>\n",
       "      <th>Posts_Per_Day</th>\n",
       "      <th>Likes_Per_Day</th>\n",
       "      <th>Follows_Per_Day</th>\n",
       "      <th>likes-to-post ratio</th>\n",
       "    </tr>\n",
       "  </thead>\n",
       "  <tbody>\n",
       "    <tr>\n",
       "      <th>0</th>\n",
       "      <td>U_1</td>\n",
       "      <td>Pinterest</td>\n",
       "      <td>0.571717</td>\n",
       "      <td>0.80</td>\n",
       "      <td>0.470</td>\n",
       "      <td>0.00</td>\n",
       "      <td>0.587499</td>\n",
       "    </tr>\n",
       "    <tr>\n",
       "      <th>1</th>\n",
       "      <td>U_2</td>\n",
       "      <td>Facebook</td>\n",
       "      <td>0.377778</td>\n",
       "      <td>0.70</td>\n",
       "      <td>0.585</td>\n",
       "      <td>0.30</td>\n",
       "      <td>0.835713</td>\n",
       "    </tr>\n",
       "    <tr>\n",
       "      <th>2</th>\n",
       "      <td>U_3</td>\n",
       "      <td>Instagram</td>\n",
       "      <td>0.698990</td>\n",
       "      <td>0.65</td>\n",
       "      <td>0.600</td>\n",
       "      <td>0.96</td>\n",
       "      <td>0.923076</td>\n",
       "    </tr>\n",
       "    <tr>\n",
       "      <th>3</th>\n",
       "      <td>U_4</td>\n",
       "      <td>TikTok</td>\n",
       "      <td>0.032323</td>\n",
       "      <td>1.00</td>\n",
       "      <td>0.585</td>\n",
       "      <td>0.16</td>\n",
       "      <td>0.584999</td>\n",
       "    </tr>\n",
       "    <tr>\n",
       "      <th>4</th>\n",
       "      <td>U_5</td>\n",
       "      <td>LinkedIn</td>\n",
       "      <td>0.476768</td>\n",
       "      <td>0.80</td>\n",
       "      <td>0.045</td>\n",
       "      <td>0.42</td>\n",
       "      <td>0.056250</td>\n",
       "    </tr>\n",
       "    <tr>\n",
       "      <th>...</th>\n",
       "      <td>...</td>\n",
       "      <td>...</td>\n",
       "      <td>...</td>\n",
       "      <td>...</td>\n",
       "      <td>...</td>\n",
       "      <td>...</td>\n",
       "      <td>...</td>\n",
       "    </tr>\n",
       "    <tr>\n",
       "      <th>995</th>\n",
       "      <td>U_996</td>\n",
       "      <td>LinkedIn</td>\n",
       "      <td>0.957576</td>\n",
       "      <td>0.20</td>\n",
       "      <td>0.360</td>\n",
       "      <td>0.30</td>\n",
       "      <td>1.799991</td>\n",
       "    </tr>\n",
       "    <tr>\n",
       "      <th>996</th>\n",
       "      <td>U_997</td>\n",
       "      <td>Instagram</td>\n",
       "      <td>0.997980</td>\n",
       "      <td>0.70</td>\n",
       "      <td>0.550</td>\n",
       "      <td>0.98</td>\n",
       "      <td>0.785713</td>\n",
       "    </tr>\n",
       "    <tr>\n",
       "      <th>997</th>\n",
       "      <td>U_998</td>\n",
       "      <td>Facebook</td>\n",
       "      <td>0.632323</td>\n",
       "      <td>0.30</td>\n",
       "      <td>0.525</td>\n",
       "      <td>0.18</td>\n",
       "      <td>1.749994</td>\n",
       "    </tr>\n",
       "    <tr>\n",
       "      <th>998</th>\n",
       "      <td>U_999</td>\n",
       "      <td>TikTok</td>\n",
       "      <td>0.606061</td>\n",
       "      <td>0.75</td>\n",
       "      <td>0.755</td>\n",
       "      <td>0.12</td>\n",
       "      <td>1.006665</td>\n",
       "    </tr>\n",
       "    <tr>\n",
       "      <th>999</th>\n",
       "      <td>U_1000</td>\n",
       "      <td>Pinterest</td>\n",
       "      <td>0.222222</td>\n",
       "      <td>0.85</td>\n",
       "      <td>0.405</td>\n",
       "      <td>0.78</td>\n",
       "      <td>0.476470</td>\n",
       "    </tr>\n",
       "  </tbody>\n",
       "</table>\n",
       "<p>1000 rows × 7 columns</p>\n",
       "</div>"
      ],
      "text/plain": [
       "    User_ID        App  Daily_Minutes_Spent  Posts_Per_Day  Likes_Per_Day  \\\n",
       "0       U_1  Pinterest             0.571717           0.80          0.470   \n",
       "1       U_2   Facebook             0.377778           0.70          0.585   \n",
       "2       U_3  Instagram             0.698990           0.65          0.600   \n",
       "3       U_4     TikTok             0.032323           1.00          0.585   \n",
       "4       U_5   LinkedIn             0.476768           0.80          0.045   \n",
       "..      ...        ...                  ...            ...            ...   \n",
       "995   U_996   LinkedIn             0.957576           0.20          0.360   \n",
       "996   U_997  Instagram             0.997980           0.70          0.550   \n",
       "997   U_998   Facebook             0.632323           0.30          0.525   \n",
       "998   U_999     TikTok             0.606061           0.75          0.755   \n",
       "999  U_1000  Pinterest             0.222222           0.85          0.405   \n",
       "\n",
       "     Follows_Per_Day  likes-to-post ratio  \n",
       "0               0.00             0.587499  \n",
       "1               0.30             0.835713  \n",
       "2               0.96             0.923076  \n",
       "3               0.16             0.584999  \n",
       "4               0.42             0.056250  \n",
       "..               ...                  ...  \n",
       "995             0.30             1.799991  \n",
       "996             0.98             0.785713  \n",
       "997             0.18             1.749994  \n",
       "998             0.12             1.006665  \n",
       "999             0.78             0.476470  \n",
       "\n",
       "[1000 rows x 7 columns]"
      ]
     },
     "execution_count": 35,
     "metadata": {},
     "output_type": "execute_result"
    }
   ],
   "source": [
    "df"
   ]
  },
  {
   "cell_type": "code",
   "execution_count": 36,
   "id": "1bd18247-9c12-44bb-acb7-5a4881a76055",
   "metadata": {},
   "outputs": [],
   "source": [
    "df[\"time-to-post\"]=df[\"Daily_Minutes_Spent\"]/(df[\"Posts_Per_Day\"]+E)"
   ]
  },
  {
   "cell_type": "code",
   "execution_count": 37,
   "id": "179d9f42-813c-489a-bc3d-74a93fde8be6",
   "metadata": {},
   "outputs": [
    {
     "data": {
      "text/html": [
       "<div>\n",
       "<style scoped>\n",
       "    .dataframe tbody tr th:only-of-type {\n",
       "        vertical-align: middle;\n",
       "    }\n",
       "\n",
       "    .dataframe tbody tr th {\n",
       "        vertical-align: top;\n",
       "    }\n",
       "\n",
       "    .dataframe thead th {\n",
       "        text-align: right;\n",
       "    }\n",
       "</style>\n",
       "<table border=\"1\" class=\"dataframe\">\n",
       "  <thead>\n",
       "    <tr style=\"text-align: right;\">\n",
       "      <th></th>\n",
       "      <th>User_ID</th>\n",
       "      <th>App</th>\n",
       "      <th>Daily_Minutes_Spent</th>\n",
       "      <th>Posts_Per_Day</th>\n",
       "      <th>Likes_Per_Day</th>\n",
       "      <th>Follows_Per_Day</th>\n",
       "      <th>likes-to-post ratio</th>\n",
       "      <th>time-to-post</th>\n",
       "    </tr>\n",
       "  </thead>\n",
       "  <tbody>\n",
       "    <tr>\n",
       "      <th>0</th>\n",
       "      <td>U_1</td>\n",
       "      <td>Pinterest</td>\n",
       "      <td>0.571717</td>\n",
       "      <td>0.80</td>\n",
       "      <td>0.470</td>\n",
       "      <td>0.00</td>\n",
       "      <td>0.587499</td>\n",
       "      <td>0.714646</td>\n",
       "    </tr>\n",
       "    <tr>\n",
       "      <th>1</th>\n",
       "      <td>U_2</td>\n",
       "      <td>Facebook</td>\n",
       "      <td>0.377778</td>\n",
       "      <td>0.70</td>\n",
       "      <td>0.585</td>\n",
       "      <td>0.30</td>\n",
       "      <td>0.835713</td>\n",
       "      <td>0.539682</td>\n",
       "    </tr>\n",
       "    <tr>\n",
       "      <th>2</th>\n",
       "      <td>U_3</td>\n",
       "      <td>Instagram</td>\n",
       "      <td>0.698990</td>\n",
       "      <td>0.65</td>\n",
       "      <td>0.600</td>\n",
       "      <td>0.96</td>\n",
       "      <td>0.923076</td>\n",
       "      <td>1.075367</td>\n",
       "    </tr>\n",
       "    <tr>\n",
       "      <th>3</th>\n",
       "      <td>U_4</td>\n",
       "      <td>TikTok</td>\n",
       "      <td>0.032323</td>\n",
       "      <td>1.00</td>\n",
       "      <td>0.585</td>\n",
       "      <td>0.16</td>\n",
       "      <td>0.584999</td>\n",
       "      <td>0.032323</td>\n",
       "    </tr>\n",
       "    <tr>\n",
       "      <th>4</th>\n",
       "      <td>U_5</td>\n",
       "      <td>LinkedIn</td>\n",
       "      <td>0.476768</td>\n",
       "      <td>0.80</td>\n",
       "      <td>0.045</td>\n",
       "      <td>0.42</td>\n",
       "      <td>0.056250</td>\n",
       "      <td>0.595959</td>\n",
       "    </tr>\n",
       "    <tr>\n",
       "      <th>...</th>\n",
       "      <td>...</td>\n",
       "      <td>...</td>\n",
       "      <td>...</td>\n",
       "      <td>...</td>\n",
       "      <td>...</td>\n",
       "      <td>...</td>\n",
       "      <td>...</td>\n",
       "      <td>...</td>\n",
       "    </tr>\n",
       "    <tr>\n",
       "      <th>995</th>\n",
       "      <td>U_996</td>\n",
       "      <td>LinkedIn</td>\n",
       "      <td>0.957576</td>\n",
       "      <td>0.20</td>\n",
       "      <td>0.360</td>\n",
       "      <td>0.30</td>\n",
       "      <td>1.799991</td>\n",
       "      <td>4.787855</td>\n",
       "    </tr>\n",
       "    <tr>\n",
       "      <th>996</th>\n",
       "      <td>U_997</td>\n",
       "      <td>Instagram</td>\n",
       "      <td>0.997980</td>\n",
       "      <td>0.70</td>\n",
       "      <td>0.550</td>\n",
       "      <td>0.98</td>\n",
       "      <td>0.785713</td>\n",
       "      <td>1.425683</td>\n",
       "    </tr>\n",
       "    <tr>\n",
       "      <th>997</th>\n",
       "      <td>U_998</td>\n",
       "      <td>Facebook</td>\n",
       "      <td>0.632323</td>\n",
       "      <td>0.30</td>\n",
       "      <td>0.525</td>\n",
       "      <td>0.18</td>\n",
       "      <td>1.749994</td>\n",
       "      <td>2.107737</td>\n",
       "    </tr>\n",
       "    <tr>\n",
       "      <th>998</th>\n",
       "      <td>U_999</td>\n",
       "      <td>TikTok</td>\n",
       "      <td>0.606061</td>\n",
       "      <td>0.75</td>\n",
       "      <td>0.755</td>\n",
       "      <td>0.12</td>\n",
       "      <td>1.006665</td>\n",
       "      <td>0.808080</td>\n",
       "    </tr>\n",
       "    <tr>\n",
       "      <th>999</th>\n",
       "      <td>U_1000</td>\n",
       "      <td>Pinterest</td>\n",
       "      <td>0.222222</td>\n",
       "      <td>0.85</td>\n",
       "      <td>0.405</td>\n",
       "      <td>0.78</td>\n",
       "      <td>0.476470</td>\n",
       "      <td>0.261438</td>\n",
       "    </tr>\n",
       "  </tbody>\n",
       "</table>\n",
       "<p>1000 rows × 8 columns</p>\n",
       "</div>"
      ],
      "text/plain": [
       "    User_ID        App  Daily_Minutes_Spent  Posts_Per_Day  Likes_Per_Day  \\\n",
       "0       U_1  Pinterest             0.571717           0.80          0.470   \n",
       "1       U_2   Facebook             0.377778           0.70          0.585   \n",
       "2       U_3  Instagram             0.698990           0.65          0.600   \n",
       "3       U_4     TikTok             0.032323           1.00          0.585   \n",
       "4       U_5   LinkedIn             0.476768           0.80          0.045   \n",
       "..      ...        ...                  ...            ...            ...   \n",
       "995   U_996   LinkedIn             0.957576           0.20          0.360   \n",
       "996   U_997  Instagram             0.997980           0.70          0.550   \n",
       "997   U_998   Facebook             0.632323           0.30          0.525   \n",
       "998   U_999     TikTok             0.606061           0.75          0.755   \n",
       "999  U_1000  Pinterest             0.222222           0.85          0.405   \n",
       "\n",
       "     Follows_Per_Day  likes-to-post ratio  time-to-post  \n",
       "0               0.00             0.587499      0.714646  \n",
       "1               0.30             0.835713      0.539682  \n",
       "2               0.96             0.923076      1.075367  \n",
       "3               0.16             0.584999      0.032323  \n",
       "4               0.42             0.056250      0.595959  \n",
       "..               ...                  ...           ...  \n",
       "995             0.30             1.799991      4.787855  \n",
       "996             0.98             0.785713      1.425683  \n",
       "997             0.18             1.749994      2.107737  \n",
       "998             0.12             1.006665      0.808080  \n",
       "999             0.78             0.476470      0.261438  \n",
       "\n",
       "[1000 rows x 8 columns]"
      ]
     },
     "execution_count": 37,
     "metadata": {},
     "output_type": "execute_result"
    }
   ],
   "source": [
    "df"
   ]
  },
  {
   "cell_type": "markdown",
   "id": "3e1490b2-25dc-4d12-82ef-f87b338cfc52",
   "metadata": {},
   "source": [
    "### clustering"
   ]
  },
  {
   "cell_type": "code",
   "execution_count": 38,
   "id": "e000f44b-f0e9-41ad-aaeb-f4bbbc0b1d26",
   "metadata": {},
   "outputs": [
    {
     "data": {
      "text/plain": [
       "['Daily_Minutes_Spent', 'Posts_Per_Day', 'Likes_Per_Day', 'Follows_Per_Day']"
      ]
     },
     "execution_count": 38,
     "metadata": {},
     "output_type": "execute_result"
    }
   ],
   "source": [
    "cols"
   ]
  },
  {
   "cell_type": "code",
   "execution_count": 39,
   "id": "56ddadfc-592b-4542-99f3-2e2376a4dcb3",
   "metadata": {},
   "outputs": [
    {
     "data": {
      "text/plain": [
       "Index(['User_ID', 'App', 'Daily_Minutes_Spent', 'Posts_Per_Day',\n",
       "       'Likes_Per_Day', 'Follows_Per_Day', 'likes-to-post ratio',\n",
       "       'time-to-post'],\n",
       "      dtype='object')"
      ]
     },
     "execution_count": 39,
     "metadata": {},
     "output_type": "execute_result"
    }
   ],
   "source": [
    "df.columns"
   ]
  },
  {
   "cell_type": "code",
   "execution_count": 40,
   "id": "be6464b6-cb2d-4816-9402-fcc533f19aed",
   "metadata": {},
   "outputs": [],
   "source": [
    "scols=df[['Daily_Minutes_Spent', 'Posts_Per_Day','Likes_Per_Day', 'Follows_Per_Day', 'likes-to-post ratio','time-to-post']]"
   ]
  },
  {
   "cell_type": "code",
   "execution_count": 41,
   "id": "1942482f-a428-444c-8f0b-a1dcf4a19506",
   "metadata": {},
   "outputs": [],
   "source": [
    "S=MinMaxScaler()"
   ]
  },
  {
   "cell_type": "code",
   "execution_count": null,
   "id": "b080e465-f977-4bec-84f5-798b7c4aedfd",
   "metadata": {},
   "outputs": [],
   "source": []
  },
  {
   "cell_type": "code",
   "execution_count": 42,
   "id": "77133b8c-8058-4cc8-889c-ab4cefb6deed",
   "metadata": {},
   "outputs": [],
   "source": [
    "from sklearn.cluster import KMeans"
   ]
  },
  {
   "cell_type": "code",
   "execution_count": 43,
   "id": "52cec980-ab51-4a05-ad5d-8e882a04780a",
   "metadata": {},
   "outputs": [],
   "source": [
    "sse=[]\n",
    "for i in range(1,8):\n",
    "    k=KMeans(n_clusters=i,random_state=42)\n",
    "    k.fit(scols)\n",
    "    sse.append(k.inertia_)"
   ]
  },
  {
   "cell_type": "code",
   "execution_count": 44,
   "id": "c6581df9-8058-46fd-8af1-02e20daaf1d3",
   "metadata": {},
   "outputs": [
    {
     "data": {
      "text/plain": [
       "[29012865798070.766,\n",
       " 6462820362877.786,\n",
       " 3604504415990.882,\n",
       " 1981104009501.8313,\n",
       " 1703865641607.4575,\n",
       " 1253362453859.0012,\n",
       " 874669104408.5386]"
      ]
     },
     "execution_count": 44,
     "metadata": {},
     "output_type": "execute_result"
    }
   ],
   "source": [
    "sse"
   ]
  },
  {
   "cell_type": "code",
   "execution_count": 45,
   "id": "fa651e85-f785-4755-b8af-2f418efae669",
   "metadata": {},
   "outputs": [
    {
     "data": {
      "image/png": "[encoded data removed]",
      "text/plain": [
       "<Figure size 640x480 with 1 Axes>"
      ]
     },
     "metadata": {},
     "output_type": "display_data"
    }
   ],
   "source": [
    "plt.plot(range(1,8),sse,marker='o')\n",
    "plt.title(\"Elbow\")\n",
    "plt.show()"
   ]
  },
  {
   "cell_type": "code",
   "execution_count": 46,
   "id": "58f8d37b-e136-44e5-8a24-80f2fde9b3fe",
   "metadata": {},
   "outputs": [],
   "source": [
    "K=KMeans(n_clusters=3,random_state=42)\n",
    "df[\"segement\"]=K.fit_predict(scols)"
   ]
  },
  {
   "cell_type": "code",
   "execution_count": 47,
   "id": "49e8ba75-74b9-40bc-99f2-fe672549348e",
   "metadata": {},
   "outputs": [
    {
     "data": {
      "text/html": [
       "<div>\n",
       "<style scoped>\n",
       "    .dataframe tbody tr th:only-of-type {\n",
       "        vertical-align: middle;\n",
       "    }\n",
       "\n",
       "    .dataframe tbody tr th {\n",
       "        vertical-align: top;\n",
       "    }\n",
       "\n",
       "    .dataframe thead th {\n",
       "        text-align: right;\n",
       "    }\n",
       "</style>\n",
       "<table border=\"1\" class=\"dataframe\">\n",
       "  <thead>\n",
       "    <tr style=\"text-align: right;\">\n",
       "      <th></th>\n",
       "      <th>User_ID</th>\n",
       "      <th>App</th>\n",
       "      <th>Daily_Minutes_Spent</th>\n",
       "      <th>Posts_Per_Day</th>\n",
       "      <th>Likes_Per_Day</th>\n",
       "      <th>Follows_Per_Day</th>\n",
       "      <th>likes-to-post ratio</th>\n",
       "      <th>time-to-post</th>\n",
       "      <th>segement</th>\n",
       "    </tr>\n",
       "  </thead>\n",
       "  <tbody>\n",
       "    <tr>\n",
       "      <th>0</th>\n",
       "      <td>U_1</td>\n",
       "      <td>Pinterest</td>\n",
       "      <td>0.571717</td>\n",
       "      <td>0.80</td>\n",
       "      <td>0.470</td>\n",
       "      <td>0.00</td>\n",
       "      <td>0.587499</td>\n",
       "      <td>0.714646</td>\n",
       "      <td>0</td>\n",
       "    </tr>\n",
       "    <tr>\n",
       "      <th>1</th>\n",
       "      <td>U_2</td>\n",
       "      <td>Facebook</td>\n",
       "      <td>0.377778</td>\n",
       "      <td>0.70</td>\n",
       "      <td>0.585</td>\n",
       "      <td>0.30</td>\n",
       "      <td>0.835713</td>\n",
       "      <td>0.539682</td>\n",
       "      <td>0</td>\n",
       "    </tr>\n",
       "    <tr>\n",
       "      <th>2</th>\n",
       "      <td>U_3</td>\n",
       "      <td>Instagram</td>\n",
       "      <td>0.698990</td>\n",
       "      <td>0.65</td>\n",
       "      <td>0.600</td>\n",
       "      <td>0.96</td>\n",
       "      <td>0.923076</td>\n",
       "      <td>1.075367</td>\n",
       "      <td>0</td>\n",
       "    </tr>\n",
       "    <tr>\n",
       "      <th>3</th>\n",
       "      <td>U_4</td>\n",
       "      <td>TikTok</td>\n",
       "      <td>0.032323</td>\n",
       "      <td>1.00</td>\n",
       "      <td>0.585</td>\n",
       "      <td>0.16</td>\n",
       "      <td>0.584999</td>\n",
       "      <td>0.032323</td>\n",
       "      <td>0</td>\n",
       "    </tr>\n",
       "    <tr>\n",
       "      <th>4</th>\n",
       "      <td>U_5</td>\n",
       "      <td>LinkedIn</td>\n",
       "      <td>0.476768</td>\n",
       "      <td>0.80</td>\n",
       "      <td>0.045</td>\n",
       "      <td>0.42</td>\n",
       "      <td>0.056250</td>\n",
       "      <td>0.595959</td>\n",
       "      <td>0</td>\n",
       "    </tr>\n",
       "    <tr>\n",
       "      <th>...</th>\n",
       "      <td>...</td>\n",
       "      <td>...</td>\n",
       "      <td>...</td>\n",
       "      <td>...</td>\n",
       "      <td>...</td>\n",
       "      <td>...</td>\n",
       "      <td>...</td>\n",
       "      <td>...</td>\n",
       "      <td>...</td>\n",
       "    </tr>\n",
       "    <tr>\n",
       "      <th>995</th>\n",
       "      <td>U_996</td>\n",
       "      <td>LinkedIn</td>\n",
       "      <td>0.957576</td>\n",
       "      <td>0.20</td>\n",
       "      <td>0.360</td>\n",
       "      <td>0.30</td>\n",
       "      <td>1.799991</td>\n",
       "      <td>4.787855</td>\n",
       "      <td>0</td>\n",
       "    </tr>\n",
       "    <tr>\n",
       "      <th>996</th>\n",
       "      <td>U_997</td>\n",
       "      <td>Instagram</td>\n",
       "      <td>0.997980</td>\n",
       "      <td>0.70</td>\n",
       "      <td>0.550</td>\n",
       "      <td>0.98</td>\n",
       "      <td>0.785713</td>\n",
       "      <td>1.425683</td>\n",
       "      <td>0</td>\n",
       "    </tr>\n",
       "    <tr>\n",
       "      <th>997</th>\n",
       "      <td>U_998</td>\n",
       "      <td>Facebook</td>\n",
       "      <td>0.632323</td>\n",
       "      <td>0.30</td>\n",
       "      <td>0.525</td>\n",
       "      <td>0.18</td>\n",
       "      <td>1.749994</td>\n",
       "      <td>2.107737</td>\n",
       "      <td>0</td>\n",
       "    </tr>\n",
       "    <tr>\n",
       "      <th>998</th>\n",
       "      <td>U_999</td>\n",
       "      <td>TikTok</td>\n",
       "      <td>0.606061</td>\n",
       "      <td>0.75</td>\n",
       "      <td>0.755</td>\n",
       "      <td>0.12</td>\n",
       "      <td>1.006665</td>\n",
       "      <td>0.808080</td>\n",
       "      <td>0</td>\n",
       "    </tr>\n",
       "    <tr>\n",
       "      <th>999</th>\n",
       "      <td>U_1000</td>\n",
       "      <td>Pinterest</td>\n",
       "      <td>0.222222</td>\n",
       "      <td>0.85</td>\n",
       "      <td>0.405</td>\n",
       "      <td>0.78</td>\n",
       "      <td>0.476470</td>\n",
       "      <td>0.261438</td>\n",
       "      <td>0</td>\n",
       "    </tr>\n",
       "  </tbody>\n",
       "</table>\n",
       "<p>1000 rows × 9 columns</p>\n",
       "</div>"
      ],
      "text/plain": [
       "    User_ID        App  Daily_Minutes_Spent  Posts_Per_Day  Likes_Per_Day  \\\n",
       "0       U_1  Pinterest             0.571717           0.80          0.470   \n",
       "1       U_2   Facebook             0.377778           0.70          0.585   \n",
       "2       U_3  Instagram             0.698990           0.65          0.600   \n",
       "3       U_4     TikTok             0.032323           1.00          0.585   \n",
       "4       U_5   LinkedIn             0.476768           0.80          0.045   \n",
       "..      ...        ...                  ...            ...            ...   \n",
       "995   U_996   LinkedIn             0.957576           0.20          0.360   \n",
       "996   U_997  Instagram             0.997980           0.70          0.550   \n",
       "997   U_998   Facebook             0.632323           0.30          0.525   \n",
       "998   U_999     TikTok             0.606061           0.75          0.755   \n",
       "999  U_1000  Pinterest             0.222222           0.85          0.405   \n",
       "\n",
       "     Follows_Per_Day  likes-to-post ratio  time-to-post  segement  \n",
       "0               0.00             0.587499      0.714646         0  \n",
       "1               0.30             0.835713      0.539682         0  \n",
       "2               0.96             0.923076      1.075367         0  \n",
       "3               0.16             0.584999      0.032323         0  \n",
       "4               0.42             0.056250      0.595959         0  \n",
       "..               ...                  ...           ...       ...  \n",
       "995             0.30             1.799991      4.787855         0  \n",
       "996             0.98             0.785713      1.425683         0  \n",
       "997             0.18             1.749994      2.107737         0  \n",
       "998             0.12             1.006665      0.808080         0  \n",
       "999             0.78             0.476470      0.261438         0  \n",
       "\n",
       "[1000 rows x 9 columns]"
      ]
     },
     "execution_count": 47,
     "metadata": {},
     "output_type": "execute_result"
    }
   ],
   "source": [
    "df"
   ]
  },
  {
   "cell_type": "code",
   "execution_count": 48,
   "id": "8cfa19fd-349c-4b5c-a163-4ddb69b11e99",
   "metadata": {},
   "outputs": [
    {
     "data": {
      "text/plain": [
       "array([0, 2, 1])"
      ]
     },
     "execution_count": 48,
     "metadata": {},
     "output_type": "execute_result"
    }
   ],
   "source": [
    "df[\"segement\"].unique()"
   ]
  },
  {
   "cell_type": "code",
   "execution_count": 49,
   "id": "4e8b995d-3dbe-47ee-a7e5-7b5c937d3252",
   "metadata": {},
   "outputs": [],
   "source": [
    "df[\"segement\"]=df[\"segement\"].replace({0 : \"passive consumers\",1:\"active posters\",2:\"influencers\"})"
   ]
  },
  {
   "cell_type": "code",
   "execution_count": 50,
   "id": "e189f82c-a853-492d-92d2-b213fb34f322",
   "metadata": {},
   "outputs": [
    {
     "data": {
      "text/html": [
       "<div>\n",
       "<style scoped>\n",
       "    .dataframe tbody tr th:only-of-type {\n",
       "        vertical-align: middle;\n",
       "    }\n",
       "\n",
       "    .dataframe tbody tr th {\n",
       "        vertical-align: top;\n",
       "    }\n",
       "\n",
       "    .dataframe thead th {\n",
       "        text-align: right;\n",
       "    }\n",
       "</style>\n",
       "<table border=\"1\" class=\"dataframe\">\n",
       "  <thead>\n",
       "    <tr style=\"text-align: right;\">\n",
       "      <th></th>\n",
       "      <th>User_ID</th>\n",
       "      <th>App</th>\n",
       "      <th>Daily_Minutes_Spent</th>\n",
       "      <th>Posts_Per_Day</th>\n",
       "      <th>Likes_Per_Day</th>\n",
       "      <th>Follows_Per_Day</th>\n",
       "      <th>likes-to-post ratio</th>\n",
       "      <th>time-to-post</th>\n",
       "      <th>segement</th>\n",
       "    </tr>\n",
       "  </thead>\n",
       "  <tbody>\n",
       "    <tr>\n",
       "      <th>0</th>\n",
       "      <td>U_1</td>\n",
       "      <td>Pinterest</td>\n",
       "      <td>0.571717</td>\n",
       "      <td>0.80</td>\n",
       "      <td>0.470</td>\n",
       "      <td>0.00</td>\n",
       "      <td>0.587499</td>\n",
       "      <td>0.714646</td>\n",
       "      <td>passive consumers</td>\n",
       "    </tr>\n",
       "    <tr>\n",
       "      <th>1</th>\n",
       "      <td>U_2</td>\n",
       "      <td>Facebook</td>\n",
       "      <td>0.377778</td>\n",
       "      <td>0.70</td>\n",
       "      <td>0.585</td>\n",
       "      <td>0.30</td>\n",
       "      <td>0.835713</td>\n",
       "      <td>0.539682</td>\n",
       "      <td>passive consumers</td>\n",
       "    </tr>\n",
       "    <tr>\n",
       "      <th>2</th>\n",
       "      <td>U_3</td>\n",
       "      <td>Instagram</td>\n",
       "      <td>0.698990</td>\n",
       "      <td>0.65</td>\n",
       "      <td>0.600</td>\n",
       "      <td>0.96</td>\n",
       "      <td>0.923076</td>\n",
       "      <td>1.075367</td>\n",
       "      <td>passive consumers</td>\n",
       "    </tr>\n",
       "    <tr>\n",
       "      <th>3</th>\n",
       "      <td>U_4</td>\n",
       "      <td>TikTok</td>\n",
       "      <td>0.032323</td>\n",
       "      <td>1.00</td>\n",
       "      <td>0.585</td>\n",
       "      <td>0.16</td>\n",
       "      <td>0.584999</td>\n",
       "      <td>0.032323</td>\n",
       "      <td>passive consumers</td>\n",
       "    </tr>\n",
       "    <tr>\n",
       "      <th>4</th>\n",
       "      <td>U_5</td>\n",
       "      <td>LinkedIn</td>\n",
       "      <td>0.476768</td>\n",
       "      <td>0.80</td>\n",
       "      <td>0.045</td>\n",
       "      <td>0.42</td>\n",
       "      <td>0.056250</td>\n",
       "      <td>0.595959</td>\n",
       "      <td>passive consumers</td>\n",
       "    </tr>\n",
       "    <tr>\n",
       "      <th>...</th>\n",
       "      <td>...</td>\n",
       "      <td>...</td>\n",
       "      <td>...</td>\n",
       "      <td>...</td>\n",
       "      <td>...</td>\n",
       "      <td>...</td>\n",
       "      <td>...</td>\n",
       "      <td>...</td>\n",
       "      <td>...</td>\n",
       "    </tr>\n",
       "    <tr>\n",
       "      <th>995</th>\n",
       "      <td>U_996</td>\n",
       "      <td>LinkedIn</td>\n",
       "      <td>0.957576</td>\n",
       "      <td>0.20</td>\n",
       "      <td>0.360</td>\n",
       "      <td>0.30</td>\n",
       "      <td>1.799991</td>\n",
       "      <td>4.787855</td>\n",
       "      <td>passive consumers</td>\n",
       "    </tr>\n",
       "    <tr>\n",
       "      <th>996</th>\n",
       "      <td>U_997</td>\n",
       "      <td>Instagram</td>\n",
       "      <td>0.997980</td>\n",
       "      <td>0.70</td>\n",
       "      <td>0.550</td>\n",
       "      <td>0.98</td>\n",
       "      <td>0.785713</td>\n",
       "      <td>1.425683</td>\n",
       "      <td>passive consumers</td>\n",
       "    </tr>\n",
       "    <tr>\n",
       "      <th>997</th>\n",
       "      <td>U_998</td>\n",
       "      <td>Facebook</td>\n",
       "      <td>0.632323</td>\n",
       "      <td>0.30</td>\n",
       "      <td>0.525</td>\n",
       "      <td>0.18</td>\n",
       "      <td>1.749994</td>\n",
       "      <td>2.107737</td>\n",
       "      <td>passive consumers</td>\n",
       "    </tr>\n",
       "    <tr>\n",
       "      <th>998</th>\n",
       "      <td>U_999</td>\n",
       "      <td>TikTok</td>\n",
       "      <td>0.606061</td>\n",
       "      <td>0.75</td>\n",
       "      <td>0.755</td>\n",
       "      <td>0.12</td>\n",
       "      <td>1.006665</td>\n",
       "      <td>0.808080</td>\n",
       "      <td>passive consumers</td>\n",
       "    </tr>\n",
       "    <tr>\n",
       "      <th>999</th>\n",
       "      <td>U_1000</td>\n",
       "      <td>Pinterest</td>\n",
       "      <td>0.222222</td>\n",
       "      <td>0.85</td>\n",
       "      <td>0.405</td>\n",
       "      <td>0.78</td>\n",
       "      <td>0.476470</td>\n",
       "      <td>0.261438</td>\n",
       "      <td>passive consumers</td>\n",
       "    </tr>\n",
       "  </tbody>\n",
       "</table>\n",
       "<p>1000 rows × 9 columns</p>\n",
       "</div>"
      ],
      "text/plain": [
       "    User_ID        App  Daily_Minutes_Spent  Posts_Per_Day  Likes_Per_Day  \\\n",
       "0       U_1  Pinterest             0.571717           0.80          0.470   \n",
       "1       U_2   Facebook             0.377778           0.70          0.585   \n",
       "2       U_3  Instagram             0.698990           0.65          0.600   \n",
       "3       U_4     TikTok             0.032323           1.00          0.585   \n",
       "4       U_5   LinkedIn             0.476768           0.80          0.045   \n",
       "..      ...        ...                  ...            ...            ...   \n",
       "995   U_996   LinkedIn             0.957576           0.20          0.360   \n",
       "996   U_997  Instagram             0.997980           0.70          0.550   \n",
       "997   U_998   Facebook             0.632323           0.30          0.525   \n",
       "998   U_999     TikTok             0.606061           0.75          0.755   \n",
       "999  U_1000  Pinterest             0.222222           0.85          0.405   \n",
       "\n",
       "     Follows_Per_Day  likes-to-post ratio  time-to-post           segement  \n",
       "0               0.00             0.587499      0.714646  passive consumers  \n",
       "1               0.30             0.835713      0.539682  passive consumers  \n",
       "2               0.96             0.923076      1.075367  passive consumers  \n",
       "3               0.16             0.584999      0.032323  passive consumers  \n",
       "4               0.42             0.056250      0.595959  passive consumers  \n",
       "..               ...                  ...           ...                ...  \n",
       "995             0.30             1.799991      4.787855  passive consumers  \n",
       "996             0.98             0.785713      1.425683  passive consumers  \n",
       "997             0.18             1.749994      2.107737  passive consumers  \n",
       "998             0.12             1.006665      0.808080  passive consumers  \n",
       "999             0.78             0.476470      0.261438  passive consumers  \n",
       "\n",
       "[1000 rows x 9 columns]"
      ]
     },
     "execution_count": 50,
     "metadata": {},
     "output_type": "execute_result"
    }
   ],
   "source": [
    "df"
   ]
  },
  {
   "cell_type": "code",
   "execution_count": 51,
   "id": "6941a1f7-2e4f-40cf-91b9-96ff76c5bdd0",
   "metadata": {},
   "outputs": [
    {
     "data": {
      "text/plain": [
       "array(['passive consumers', 'influencers', 'active posters'], dtype=object)"
      ]
     },
     "execution_count": 51,
     "metadata": {},
     "output_type": "execute_result"
    }
   ],
   "source": [
    "df[\"segement\"].unique()"
   ]
  },
  {
   "cell_type": "code",
   "execution_count": 52,
   "id": "5e166ed2-1ac2-4942-a4bb-a7be954761b6",
   "metadata": {},
   "outputs": [
    {
     "data": {
      "text/html": [
       "<div>\n",
       "<style scoped>\n",
       "    .dataframe tbody tr th:only-of-type {\n",
       "        vertical-align: middle;\n",
       "    }\n",
       "\n",
       "    .dataframe tbody tr th {\n",
       "        vertical-align: top;\n",
       "    }\n",
       "\n",
       "    .dataframe thead th {\n",
       "        text-align: right;\n",
       "    }\n",
       "</style>\n",
       "<table border=\"1\" class=\"dataframe\">\n",
       "  <thead>\n",
       "    <tr style=\"text-align: right;\">\n",
       "      <th></th>\n",
       "      <th>User_ID</th>\n",
       "      <th>App</th>\n",
       "      <th>Daily_Minutes_Spent</th>\n",
       "      <th>Posts_Per_Day</th>\n",
       "      <th>Likes_Per_Day</th>\n",
       "      <th>Follows_Per_Day</th>\n",
       "      <th>likes-to-post ratio</th>\n",
       "      <th>time-to-post</th>\n",
       "      <th>segement</th>\n",
       "    </tr>\n",
       "  </thead>\n",
       "  <tbody>\n",
       "    <tr>\n",
       "      <th>0</th>\n",
       "      <td>U_1</td>\n",
       "      <td>Pinterest</td>\n",
       "      <td>0.571717</td>\n",
       "      <td>0.80</td>\n",
       "      <td>0.470</td>\n",
       "      <td>0.00</td>\n",
       "      <td>0.587499</td>\n",
       "      <td>0.714646</td>\n",
       "      <td>passive consumers</td>\n",
       "    </tr>\n",
       "    <tr>\n",
       "      <th>1</th>\n",
       "      <td>U_2</td>\n",
       "      <td>Facebook</td>\n",
       "      <td>0.377778</td>\n",
       "      <td>0.70</td>\n",
       "      <td>0.585</td>\n",
       "      <td>0.30</td>\n",
       "      <td>0.835713</td>\n",
       "      <td>0.539682</td>\n",
       "      <td>passive consumers</td>\n",
       "    </tr>\n",
       "    <tr>\n",
       "      <th>2</th>\n",
       "      <td>U_3</td>\n",
       "      <td>Instagram</td>\n",
       "      <td>0.698990</td>\n",
       "      <td>0.65</td>\n",
       "      <td>0.600</td>\n",
       "      <td>0.96</td>\n",
       "      <td>0.923076</td>\n",
       "      <td>1.075367</td>\n",
       "      <td>passive consumers</td>\n",
       "    </tr>\n",
       "    <tr>\n",
       "      <th>3</th>\n",
       "      <td>U_4</td>\n",
       "      <td>TikTok</td>\n",
       "      <td>0.032323</td>\n",
       "      <td>1.00</td>\n",
       "      <td>0.585</td>\n",
       "      <td>0.16</td>\n",
       "      <td>0.584999</td>\n",
       "      <td>0.032323</td>\n",
       "      <td>passive consumers</td>\n",
       "    </tr>\n",
       "    <tr>\n",
       "      <th>4</th>\n",
       "      <td>U_5</td>\n",
       "      <td>LinkedIn</td>\n",
       "      <td>0.476768</td>\n",
       "      <td>0.80</td>\n",
       "      <td>0.045</td>\n",
       "      <td>0.42</td>\n",
       "      <td>0.056250</td>\n",
       "      <td>0.595959</td>\n",
       "      <td>passive consumers</td>\n",
       "    </tr>\n",
       "    <tr>\n",
       "      <th>...</th>\n",
       "      <td>...</td>\n",
       "      <td>...</td>\n",
       "      <td>...</td>\n",
       "      <td>...</td>\n",
       "      <td>...</td>\n",
       "      <td>...</td>\n",
       "      <td>...</td>\n",
       "      <td>...</td>\n",
       "      <td>...</td>\n",
       "    </tr>\n",
       "    <tr>\n",
       "      <th>995</th>\n",
       "      <td>U_996</td>\n",
       "      <td>LinkedIn</td>\n",
       "      <td>0.957576</td>\n",
       "      <td>0.20</td>\n",
       "      <td>0.360</td>\n",
       "      <td>0.30</td>\n",
       "      <td>1.799991</td>\n",
       "      <td>4.787855</td>\n",
       "      <td>passive consumers</td>\n",
       "    </tr>\n",
       "    <tr>\n",
       "      <th>996</th>\n",
       "      <td>U_997</td>\n",
       "      <td>Instagram</td>\n",
       "      <td>0.997980</td>\n",
       "      <td>0.70</td>\n",
       "      <td>0.550</td>\n",
       "      <td>0.98</td>\n",
       "      <td>0.785713</td>\n",
       "      <td>1.425683</td>\n",
       "      <td>passive consumers</td>\n",
       "    </tr>\n",
       "    <tr>\n",
       "      <th>997</th>\n",
       "      <td>U_998</td>\n",
       "      <td>Facebook</td>\n",
       "      <td>0.632323</td>\n",
       "      <td>0.30</td>\n",
       "      <td>0.525</td>\n",
       "      <td>0.18</td>\n",
       "      <td>1.749994</td>\n",
       "      <td>2.107737</td>\n",
       "      <td>passive consumers</td>\n",
       "    </tr>\n",
       "    <tr>\n",
       "      <th>998</th>\n",
       "      <td>U_999</td>\n",
       "      <td>TikTok</td>\n",
       "      <td>0.606061</td>\n",
       "      <td>0.75</td>\n",
       "      <td>0.755</td>\n",
       "      <td>0.12</td>\n",
       "      <td>1.006665</td>\n",
       "      <td>0.808080</td>\n",
       "      <td>passive consumers</td>\n",
       "    </tr>\n",
       "    <tr>\n",
       "      <th>999</th>\n",
       "      <td>U_1000</td>\n",
       "      <td>Pinterest</td>\n",
       "      <td>0.222222</td>\n",
       "      <td>0.85</td>\n",
       "      <td>0.405</td>\n",
       "      <td>0.78</td>\n",
       "      <td>0.476470</td>\n",
       "      <td>0.261438</td>\n",
       "      <td>passive consumers</td>\n",
       "    </tr>\n",
       "  </tbody>\n",
       "</table>\n",
       "<p>1000 rows × 9 columns</p>\n",
       "</div>"
      ],
      "text/plain": [
       "    User_ID        App  Daily_Minutes_Spent  Posts_Per_Day  Likes_Per_Day  \\\n",
       "0       U_1  Pinterest             0.571717           0.80          0.470   \n",
       "1       U_2   Facebook             0.377778           0.70          0.585   \n",
       "2       U_3  Instagram             0.698990           0.65          0.600   \n",
       "3       U_4     TikTok             0.032323           1.00          0.585   \n",
       "4       U_5   LinkedIn             0.476768           0.80          0.045   \n",
       "..      ...        ...                  ...            ...            ...   \n",
       "995   U_996   LinkedIn             0.957576           0.20          0.360   \n",
       "996   U_997  Instagram             0.997980           0.70          0.550   \n",
       "997   U_998   Facebook             0.632323           0.30          0.525   \n",
       "998   U_999     TikTok             0.606061           0.75          0.755   \n",
       "999  U_1000  Pinterest             0.222222           0.85          0.405   \n",
       "\n",
       "     Follows_Per_Day  likes-to-post ratio  time-to-post           segement  \n",
       "0               0.00             0.587499      0.714646  passive consumers  \n",
       "1               0.30             0.835713      0.539682  passive consumers  \n",
       "2               0.96             0.923076      1.075367  passive consumers  \n",
       "3               0.16             0.584999      0.032323  passive consumers  \n",
       "4               0.42             0.056250      0.595959  passive consumers  \n",
       "..               ...                  ...           ...                ...  \n",
       "995             0.30             1.799991      4.787855  passive consumers  \n",
       "996             0.98             0.785713      1.425683  passive consumers  \n",
       "997             0.18             1.749994      2.107737  passive consumers  \n",
       "998             0.12             1.006665      0.808080  passive consumers  \n",
       "999             0.78             0.476470      0.261438  passive consumers  \n",
       "\n",
       "[1000 rows x 9 columns]"
      ]
     },
     "execution_count": 52,
     "metadata": {},
     "output_type": "execute_result"
    }
   ],
   "source": [
    "df"
   ]
  },
  {
   "cell_type": "code",
   "execution_count": 53,
   "id": "88ccd805-fad3-43d8-9176-8c5a4d5169a3",
   "metadata": {},
   "outputs": [
    {
     "name": "stderr",
     "output_type": "stream",
     "text": [
      "C:\\Users\\HP 745 G6\\AppData\\Local\\Temp\\ipykernel_5556\\106955278.py:1: FutureWarning: The default of observed=False is deprecated and will be changed to True in a future version of pandas. Pass observed=False to retain current behavior or observed=True to adopt the future default and silence this warning.\n",
      "  segement_preference=df.groupby([\"segement\",\"App\"]).size().unstack()\n"
     ]
    },
    {
     "data": {
      "text/html": [
       "<div>\n",
       "<style scoped>\n",
       "    .dataframe tbody tr th:only-of-type {\n",
       "        vertical-align: middle;\n",
       "    }\n",
       "\n",
       "    .dataframe tbody tr th {\n",
       "        vertical-align: top;\n",
       "    }\n",
       "\n",
       "    .dataframe thead th {\n",
       "        text-align: right;\n",
       "    }\n",
       "</style>\n",
       "<table border=\"1\" class=\"dataframe\">\n",
       "  <thead>\n",
       "    <tr style=\"text-align: right;\">\n",
       "      <th>App</th>\n",
       "      <th>Facebook</th>\n",
       "      <th>Instagram</th>\n",
       "      <th>LinkedIn</th>\n",
       "      <th>Pinterest</th>\n",
       "      <th>Snapchat</th>\n",
       "      <th>TikTok</th>\n",
       "      <th>Twitter</th>\n",
       "    </tr>\n",
       "    <tr>\n",
       "      <th>segement</th>\n",
       "      <th></th>\n",
       "      <th></th>\n",
       "      <th></th>\n",
       "      <th></th>\n",
       "      <th></th>\n",
       "      <th></th>\n",
       "      <th></th>\n",
       "    </tr>\n",
       "  </thead>\n",
       "  <tbody>\n",
       "    <tr>\n",
       "      <th>active posters</th>\n",
       "      <td>3</td>\n",
       "      <td>2</td>\n",
       "      <td>4</td>\n",
       "      <td>0</td>\n",
       "      <td>3</td>\n",
       "      <td>3</td>\n",
       "      <td>1</td>\n",
       "    </tr>\n",
       "    <tr>\n",
       "      <th>influencers</th>\n",
       "      <td>5</td>\n",
       "      <td>1</td>\n",
       "      <td>2</td>\n",
       "      <td>2</td>\n",
       "      <td>3</td>\n",
       "      <td>5</td>\n",
       "      <td>2</td>\n",
       "    </tr>\n",
       "    <tr>\n",
       "      <th>passive consumers</th>\n",
       "      <td>128</td>\n",
       "      <td>137</td>\n",
       "      <td>141</td>\n",
       "      <td>138</td>\n",
       "      <td>150</td>\n",
       "      <td>133</td>\n",
       "      <td>137</td>\n",
       "    </tr>\n",
       "  </tbody>\n",
       "</table>\n",
       "</div>"
      ],
      "text/plain": [
       "App                Facebook  Instagram  LinkedIn  Pinterest  Snapchat  TikTok  \\\n",
       "segement                                                                        \n",
       "active posters            3          2         4          0         3       3   \n",
       "influencers               5          1         2          2         3       5   \n",
       "passive consumers       128        137       141        138       150     133   \n",
       "\n",
       "App                Twitter  \n",
       "segement                    \n",
       "active posters           1  \n",
       "influencers              2  \n",
       "passive consumers      137  "
      ]
     },
     "execution_count": 53,
     "metadata": {},
     "output_type": "execute_result"
    }
   ],
   "source": [
    "segement_preference=df.groupby([\"segement\",\"App\"]).size().unstack()\n",
    "segement_preference"
   ]
  },
  {
   "cell_type": "code",
   "execution_count": 54,
   "id": "45874f92-eb7a-4612-826d-c777ed210e0d",
   "metadata": {},
   "outputs": [
    {
     "data": {
      "image/png": "[encoded data removed]",
      "text/plain": [
       "<Figure size 800x600 with 1 Axes>"
      ]
     },
     "metadata": {},
     "output_type": "display_data"
    }
   ],
   "source": [
    "plt.figure(figsize=(8,6))\n",
    "df[\"segement\"].value_counts().plot(kind=\"bar\")\n",
    "plt.title(\"user_segement\")\n",
    "plt.grid()\n",
    "plt.legend(loc=2)\n",
    "plt.show()"
   ]
  },
  {
   "cell_type": "code",
   "execution_count": 55,
   "id": "288e7e39-40fc-4a29-af8c-c93f7a5ac9bf",
   "metadata": {},
   "outputs": [
    {
     "data": {
      "image/png": "[encoded data removed]",
      "text/plain": [
       "<Figure size 640x480 with 1 Axes>"
      ]
     },
     "metadata": {},
     "output_type": "display_data"
    }
   ],
   "source": [
    "sns.scatterplot(data=df,x=\"likes-to-post ratio\",y=\"time-to-post\",hue='segement')\n",
    "plt.xlabel(\"likes-to-post ratio\")\n",
    "plt.title(\"users_clusterings\")\n",
    "plt.ylabel(\"time-to-post\")\n",
    "plt.show()"
   ]
  },
  {
   "cell_type": "markdown",
   "id": "6bacfd4e-3522-4241-a673-bd328249693a",
   "metadata": {},
   "source": [
    "### Platform Performance Analysis:"
   ]
  },
  {
   "cell_type": "markdown",
   "id": "73cc3a38-7af0-4379-8889-55bcd96b233f",
   "metadata": {},
   "source": [
    "##### Engagement by Platform:"
   ]
  },
  {
   "cell_type": "code",
   "execution_count": 56,
   "id": "b1a6df77-19c0-4c49-b7b0-94d7b8bda4e4",
   "metadata": {},
   "outputs": [
    {
     "data": {
      "text/plain": [
       "['Daily_Minutes_Spent', 'Posts_Per_Day', 'Likes_Per_Day', 'Follows_Per_Day']"
      ]
     },
     "execution_count": 56,
     "metadata": {},
     "output_type": "execute_result"
    }
   ],
   "source": [
    "cols"
   ]
  },
  {
   "cell_type": "code",
   "execution_count": 57,
   "id": "e812a536-b499-459c-9a65-5bf7d270d6b8",
   "metadata": {},
   "outputs": [
    {
     "name": "stderr",
     "output_type": "stream",
     "text": [
      "C:\\Users\\HP 745 G6\\AppData\\Local\\Temp\\ipykernel_5556\\817647657.py:1: FutureWarning: The default of observed=False is deprecated and will be changed to True in a future version of pandas. Pass observed=False to retain current behavior or observed=True to adopt the future default and silence this warning.\n",
      "  avg_platform_users=df.groupby(\"App\")[['Posts_Per_Day', 'Likes_Per_Day', 'Follows_Per_Day']].mean()\n"
     ]
    }
   ],
   "source": [
    "avg_platform_users=df.groupby(\"App\")[['Posts_Per_Day', 'Likes_Per_Day', 'Follows_Per_Day']].mean()"
   ]
  },
  {
   "cell_type": "code",
   "execution_count": 58,
   "id": "3b02deb8-5560-42c7-b3da-b3e03cb8bcd6",
   "metadata": {},
   "outputs": [
    {
     "data": {
      "text/html": [
       "<div>\n",
       "<style scoped>\n",
       "    .dataframe tbody tr th:only-of-type {\n",
       "        vertical-align: middle;\n",
       "    }\n",
       "\n",
       "    .dataframe tbody tr th {\n",
       "        vertical-align: top;\n",
       "    }\n",
       "\n",
       "    .dataframe thead th {\n",
       "        text-align: right;\n",
       "    }\n",
       "</style>\n",
       "<table border=\"1\" class=\"dataframe\">\n",
       "  <thead>\n",
       "    <tr style=\"text-align: right;\">\n",
       "      <th></th>\n",
       "      <th>Posts_Per_Day</th>\n",
       "      <th>Likes_Per_Day</th>\n",
       "      <th>Follows_Per_Day</th>\n",
       "    </tr>\n",
       "    <tr>\n",
       "      <th>App</th>\n",
       "      <th></th>\n",
       "      <th></th>\n",
       "      <th></th>\n",
       "    </tr>\n",
       "  </thead>\n",
       "  <tbody>\n",
       "    <tr>\n",
       "      <th>Facebook</th>\n",
       "      <td>0.476103</td>\n",
       "      <td>0.496507</td>\n",
       "      <td>0.462353</td>\n",
       "    </tr>\n",
       "    <tr>\n",
       "      <th>Instagram</th>\n",
       "      <td>0.566429</td>\n",
       "      <td>0.494964</td>\n",
       "      <td>0.517286</td>\n",
       "    </tr>\n",
       "    <tr>\n",
       "      <th>LinkedIn</th>\n",
       "      <td>0.508844</td>\n",
       "      <td>0.485408</td>\n",
       "      <td>0.501633</td>\n",
       "    </tr>\n",
       "    <tr>\n",
       "      <th>Pinterest</th>\n",
       "      <td>0.531429</td>\n",
       "      <td>0.460571</td>\n",
       "      <td>0.495857</td>\n",
       "    </tr>\n",
       "    <tr>\n",
       "      <th>Snapchat</th>\n",
       "      <td>0.500000</td>\n",
       "      <td>0.469103</td>\n",
       "      <td>0.510128</td>\n",
       "    </tr>\n",
       "    <tr>\n",
       "      <th>TikTok</th>\n",
       "      <td>0.478014</td>\n",
       "      <td>0.457057</td>\n",
       "      <td>0.488794</td>\n",
       "    </tr>\n",
       "    <tr>\n",
       "      <th>Twitter</th>\n",
       "      <td>0.534286</td>\n",
       "      <td>0.450929</td>\n",
       "      <td>0.478571</td>\n",
       "    </tr>\n",
       "  </tbody>\n",
       "</table>\n",
       "</div>"
      ],
      "text/plain": [
       "           Posts_Per_Day  Likes_Per_Day  Follows_Per_Day\n",
       "App                                                     \n",
       "Facebook        0.476103       0.496507         0.462353\n",
       "Instagram       0.566429       0.494964         0.517286\n",
       "LinkedIn        0.508844       0.485408         0.501633\n",
       "Pinterest       0.531429       0.460571         0.495857\n",
       "Snapchat        0.500000       0.469103         0.510128\n",
       "TikTok          0.478014       0.457057         0.488794\n",
       "Twitter         0.534286       0.450929         0.478571"
      ]
     },
     "execution_count": 58,
     "metadata": {},
     "output_type": "execute_result"
    }
   ],
   "source": [
    "avg_platform_users"
   ]
  },
  {
   "cell_type": "code",
   "execution_count": 59,
   "id": "212904f9-fcc0-4a6e-9ba3-997a52c85fea",
   "metadata": {},
   "outputs": [
    {
     "data": {
      "image/png": "[encoded data removed]",
      "text/plain": [
       "<Figure size 640x480 with 1 Axes>"
      ]
     },
     "metadata": {},
     "output_type": "display_data"
    }
   ],
   "source": [
    "avg_platform_users.plot(kind=\"barh\")\n",
    "plt.title(\"avg_paltform_users\")\n",
    "plt.ylabel(\"app\")\n",
    "plt.xlabel(\"avg_like_post_followers\")\n",
    "plt.show()"
   ]
  },
  {
   "cell_type": "markdown",
   "id": "9dfb6cfc-5c45-4c1f-9d28-6ed37d633c84",
   "metadata": {},
   "source": [
    "##### Retention Metrics:"
   ]
  },
  {
   "cell_type": "code",
   "execution_count": 60,
   "id": "8549d839-f24d-4dd9-8038-fe6aea5ad08e",
   "metadata": {},
   "outputs": [],
   "source": [
    "metrices=df['Daily_Minutes_Spent'].corr(df[\"Follows_Per_Day\"])"
   ]
  },
  {
   "cell_type": "code",
   "execution_count": 61,
   "id": "0256d36c-32e4-40cc-96aa-316a081707f7",
   "metadata": {},
   "outputs": [
    {
     "data": {
      "text/plain": [
       "0.037520941537408675"
      ]
     },
     "execution_count": 61,
     "metadata": {},
     "output_type": "execute_result"
    }
   ],
   "source": [
    "metrices"
   ]
  },
  {
   "cell_type": "code",
   "execution_count": 62,
   "id": "4054c82c-ac79-4306-97eb-1f26820a8bfe",
   "metadata": {},
   "outputs": [
    {
     "data": {
      "image/png": "[encoded data removed]",
      "text/plain": [
       "<Figure size 640x480 with 1 Axes>"
      ]
     },
     "metadata": {},
     "output_type": "display_data"
    }
   ],
   "source": [
    "sns.scatterplot(data=df,x='Daily_Minutes_Spent',y=\"Follows_Per_Day\",hue=\"segement\")\n",
    "plt.title(\"Retention Metrics\")\n",
    "plt.show()"
   ]
  },
  {
   "cell_type": "code",
   "execution_count": 63,
   "id": "eae37f2b-4099-492b-8909-f52c94455b75",
   "metadata": {},
   "outputs": [],
   "source": [
    "df.to_excel(\"social media.xlsx\",index=False)"
   ]
  },
  {
   "cell_type": "code",
   "execution_count": null,
   "id": "bacf4b23-0376-4b3f-896e-41cdb5ad41df",
   "metadata": {},
   "outputs": [],
   "source": []
  }
 ],
 "metadata": {
  "kernelspec": {
   "display_name": "Python 3 (ipykernel)",
   "language": "python",
   "name": "python3"
  },
  "language_info": {
   "codemirror_mode": {
    "name": "ipython",
    "version": 3
   },
   "file_extension": ".py",
   "mimetype": "text/x-python",
   "name": "python",
   "nbconvert_exporter": "python",
   "pygments_lexer": "ipython3",
   "version": "3.12.4"
  }
 },
 "nbformat": 4,
 "nbformat_minor": 5
}
